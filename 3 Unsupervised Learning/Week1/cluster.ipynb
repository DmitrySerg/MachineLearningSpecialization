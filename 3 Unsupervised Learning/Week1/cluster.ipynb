{
 "cells": [
  {
   "cell_type": "markdown",
   "metadata": {},
   "source": [
    "# Assignment: Подробнее о методах кластеризации"
   ]
  },
  {
   "cell_type": "markdown",
   "metadata": {},
   "source": [
    "Представим, что международное круизное агентство \"Carnival Cruise Line\" решило себя разрекламировать с помощью баннеров и обратилось для этого к Вам. Чтобы протестировать, велика ли от таких баннеров польза, их будет размещено всего 20 штук по всему миру. Вам надо выбрать 20 таких локаций для размещения, чтобы польза была большой и агентство продолжило с Вами сотрудничать.\n",
    "\n",
    "Агентство крупное, и у него есть несколько офисов по всему миру. Вблизи этих офисов оно и хочет разместить баннеры - легче договариваться и проверять результат. Также эти места должны быть популярны среди туристов.\n",
    "\n",
    "Для поиска оптимальных мест воспользуемся базой данных крупнейшей социальной сети, основанной на локациях - Foursqare.\n",
    "\n",
    "Часть открытых данных есть, например, на сайте archive.org:\n",
    "\n",
    "https://archive.org/details/201309_foursquare_dataset_umn\n",
    "\n",
    "Скачаем любым удобным образом архив с этой страницы."
   ]
  },
  {
   "cell_type": "markdown",
   "metadata": {},
   "source": [
    "Нас будет интересовать файл `checkins.dat`. Открыв его, увидим следующую структуру:\n",
    "\n",
    "```\n",
    "id | user_id | venue_id | latitude | longitude | created_at\n",
    "\n",
    "---------+---------+----------+-------------------+-------------------+---------------------\n",
    "\n",
    "984301 | 2041916 | 5222 | | | 2012-04-21 17:39:01\n",
    "\n",
    "984222 | 15824 | 5222 | 38.8951118 | -77.0363658 | 2012-04-21 17:43:47\n",
    "\n",
    "984315 | 1764391 | 5222 | | | 2012-04-21 17:37:18\n",
    "\n",
    "984234 | 44652 | 5222 | 33.800745 | -84.41052 | 2012-04-21 17:43:43\n",
    "\n",
    "...\n",
    "```"
   ]
  },
  {
   "cell_type": "markdown",
   "metadata": {},
   "source": [
    "Для удобной работы с этим документом преобразуем его к формату csv, удалив строки не содержащие координат - они неинформативны для нас:\n",
    "\n",
    "```\n",
    "id,user_id,venue_id,latitude,longitude,created_at\n",
    "\n",
    "984222,15824,5222,38.8951118,-77.0363658,2012-04-21T17:43:47\n",
    "\n",
    "984234,44652,5222,33.800745,-84.41052,2012-04-21T17:43:43\n",
    "\n",
    "984291,105054,5222,45.5234515,-122.6762071,2012-04-21T17:39:22\n",
    "\n",
    "...\n",
    "```\n",
    "\n",
    "С помощью `pandas` построим DataFrame и убедимся, что все 396632 строк с координатами считаны успешно."
   ]
  },
  {
   "cell_type": "code",
   "execution_count": 1,
   "metadata": {
    "collapsed": true
   },
   "outputs": [],
   "source": [
    "import pandas as pd\n",
    "df = pd.read_csv('checkins.csv')"
   ]
  },
  {
   "cell_type": "code",
   "execution_count": 2,
   "metadata": {},
   "outputs": [
    {
     "data": {
      "text/html": [
       "<div>\n",
       "<table border=\"1\" class=\"dataframe\">\n",
       "  <thead>\n",
       "    <tr style=\"text-align: right;\">\n",
       "      <th></th>\n",
       "      <th>id</th>\n",
       "      <th>user_id</th>\n",
       "      <th>venue_id</th>\n",
       "      <th>latitude</th>\n",
       "      <th>longitude</th>\n",
       "      <th>created_at</th>\n",
       "    </tr>\n",
       "  </thead>\n",
       "  <tbody>\n",
       "    <tr>\n",
       "      <th>0</th>\n",
       "      <td>984222</td>\n",
       "      <td>15824.0</td>\n",
       "      <td>5222.0</td>\n",
       "      <td>38.895112</td>\n",
       "      <td>-77.036366</td>\n",
       "      <td>2012-04-21 17:43:47</td>\n",
       "    </tr>\n",
       "    <tr>\n",
       "      <th>1</th>\n",
       "      <td>984234</td>\n",
       "      <td>44652.0</td>\n",
       "      <td>5222.0</td>\n",
       "      <td>33.800745</td>\n",
       "      <td>-84.410520</td>\n",
       "      <td>2012-04-21 17:43:43</td>\n",
       "    </tr>\n",
       "    <tr>\n",
       "      <th>2</th>\n",
       "      <td>984291</td>\n",
       "      <td>105054.0</td>\n",
       "      <td>5222.0</td>\n",
       "      <td>45.523452</td>\n",
       "      <td>-122.676207</td>\n",
       "      <td>2012-04-21 17:39:22</td>\n",
       "    </tr>\n",
       "    <tr>\n",
       "      <th>3</th>\n",
       "      <td>984318</td>\n",
       "      <td>2146539.0</td>\n",
       "      <td>5222.0</td>\n",
       "      <td>40.764462</td>\n",
       "      <td>-111.904565</td>\n",
       "      <td>2012-04-21 17:35:46</td>\n",
       "    </tr>\n",
       "    <tr>\n",
       "      <th>4</th>\n",
       "      <td>984232</td>\n",
       "      <td>93870.0</td>\n",
       "      <td>380645.0</td>\n",
       "      <td>33.448377</td>\n",
       "      <td>-112.074037</td>\n",
       "      <td>2012-04-21 17:38:18</td>\n",
       "    </tr>\n",
       "  </tbody>\n",
       "</table>\n",
       "</div>"
      ],
      "text/plain": [
       "       id    user_id  venue_id   latitude   longitude            created_at\n",
       "0  984222    15824.0    5222.0  38.895112  -77.036366   2012-04-21 17:43:47\n",
       "1  984234    44652.0    5222.0  33.800745  -84.410520   2012-04-21 17:43:43\n",
       "2  984291   105054.0    5222.0  45.523452 -122.676207   2012-04-21 17:39:22\n",
       "3  984318  2146539.0    5222.0  40.764462 -111.904565   2012-04-21 17:35:46\n",
       "4  984232    93870.0  380645.0  33.448377 -112.074037   2012-04-21 17:38:18"
      ]
     },
     "execution_count": 2,
     "metadata": {},
     "output_type": "execute_result"
    }
   ],
   "source": [
    "df.head()"
   ]
  },
  {
   "cell_type": "code",
   "execution_count": 3,
   "metadata": {},
   "outputs": [
    {
     "data": {
      "text/plain": [
       "(396634, 6)"
      ]
     },
     "execution_count": 3,
     "metadata": {},
     "output_type": "execute_result"
    }
   ],
   "source": [
    "df.shape"
   ]
  },
  {
   "cell_type": "code",
   "execution_count": 4,
   "metadata": {},
   "outputs": [
    {
     "data": {
      "text/html": [
       "<div>\n",
       "<table border=\"1\" class=\"dataframe\">\n",
       "  <thead>\n",
       "    <tr style=\"text-align: right;\">\n",
       "      <th></th>\n",
       "      <th>id</th>\n",
       "      <th>user_id</th>\n",
       "      <th>venue_id</th>\n",
       "      <th>latitude</th>\n",
       "      <th>longitude</th>\n",
       "      <th>created_at</th>\n",
       "    </tr>\n",
       "  </thead>\n",
       "  <tbody>\n",
       "    <tr>\n",
       "      <th>396629</th>\n",
       "      <td>955561</td>\n",
       "      <td>626076.0</td>\n",
       "      <td>20073.0</td>\n",
       "      <td>40.850100</td>\n",
       "      <td>-73.866246</td>\n",
       "      <td>2012-04-13 09:56:48</td>\n",
       "    </tr>\n",
       "    <tr>\n",
       "      <th>396630</th>\n",
       "      <td>955892</td>\n",
       "      <td>674797.0</td>\n",
       "      <td>2297.0</td>\n",
       "      <td>33.748995</td>\n",
       "      <td>-84.387982</td>\n",
       "      <td>2012-04-13 10:56:03</td>\n",
       "    </tr>\n",
       "    <tr>\n",
       "      <th>396631</th>\n",
       "      <td>956377</td>\n",
       "      <td>845102.0</td>\n",
       "      <td>11195.0</td>\n",
       "      <td>42.765366</td>\n",
       "      <td>-71.467566</td>\n",
       "      <td>2012-04-13 12:08:45</td>\n",
       "    </tr>\n",
       "    <tr>\n",
       "      <th>396632</th>\n",
       "      <td>956119</td>\n",
       "      <td>1139114.0</td>\n",
       "      <td>29488.0</td>\n",
       "      <td>42.439479</td>\n",
       "      <td>-83.743830</td>\n",
       "      <td>2012-04-13 11:36:44</td>\n",
       "    </tr>\n",
       "    <tr>\n",
       "      <th>396633</th>\n",
       "      <td>956733</td>\n",
       "      <td>960666.0</td>\n",
       "      <td>60.0</td>\n",
       "      <td>42.331427</td>\n",
       "      <td>-83.045754</td>\n",
       "      <td>2012-04-13 21:56:19</td>\n",
       "    </tr>\n",
       "  </tbody>\n",
       "</table>\n",
       "</div>"
      ],
      "text/plain": [
       "            id    user_id  venue_id   latitude  longitude  \\\n",
       "396629  955561   626076.0   20073.0  40.850100 -73.866246   \n",
       "396630  955892   674797.0    2297.0  33.748995 -84.387982   \n",
       "396631  956377   845102.0   11195.0  42.765366 -71.467566   \n",
       "396632  956119  1139114.0   29488.0  42.439479 -83.743830   \n",
       "396633  956733   960666.0      60.0  42.331427 -83.045754   \n",
       "\n",
       "                  created_at  \n",
       "396629   2012-04-13 09:56:48  \n",
       "396630   2012-04-13 10:56:03  \n",
       "396631   2012-04-13 12:08:45  \n",
       "396632   2012-04-13 11:36:44  \n",
       "396633   2012-04-13 21:56:19  "
      ]
     },
     "execution_count": 4,
     "metadata": {},
     "output_type": "execute_result"
    }
   ],
   "source": [
    "df.tail()"
   ]
  },
  {
   "cell_type": "code",
   "execution_count": 5,
   "metadata": {},
   "outputs": [
    {
     "name": "stdout",
     "output_type": "stream",
     "text": [
      "<class 'pandas.core.frame.DataFrame'>\n",
      "RangeIndex: 396634 entries, 0 to 396633\n",
      "Data columns (total 6 columns):\n",
      "id            396634 non-null int64\n",
      "user_id       396634 non-null float64\n",
      "venue_id      396634 non-null float64\n",
      "latitude      396634 non-null float64\n",
      "longitude     396634 non-null float64\n",
      "created_at    396634 non-null object\n",
      "dtypes: float64(4), int64(1), object(1)\n",
      "memory usage: 18.2+ MB\n"
     ]
    }
   ],
   "source": [
    "df.info()"
   ]
  },
  {
   "cell_type": "code",
   "execution_count": 6,
   "metadata": {
    "collapsed": true
   },
   "outputs": [],
   "source": [
    "X = df[['latitude','longitude']]"
   ]
  },
  {
   "cell_type": "markdown",
   "metadata": {},
   "source": [
    "Теперь необходимо кластеризовать данные координаты, чтобы выявить центры скоплений туристов. Поскольку баннеры имеют сравнительно небольшую площадь действия, нам нужен алгоритм, позволяющий ограничить размер кластера и не зависящий от количества кластеров.\n",
    "\n",
    "Эта задача - хороший повод познакомиться с алгоритмом `MeanShift`, который мы обошли стороной в основной части лекций. Его описание при желании можно посмотреть в [sklearn user guide](http://scikit-learn.org/stable/modules/generated/sklearn.cluster.MeanShift.html), а чуть позже появится дополнительное видео с обзором этого и некоторых других алгоритмов кластеризации. Используйте `MeanShift`, указав `bandwidth=0.1`, что в переводе из градусов в метры колеблется примерно от 5 до 10 км в средних широтах."
   ]
  },
  {
   "cell_type": "markdown",
   "metadata": {},
   "source": [
    "**Примечание**: на 396632 строках, кластеризация будет работать долго. Для получения корректного ответа достаточно и 100000 (~2 минуты на \"среднем\" ноутбуке). Быть очень терпеливым не возбраняется - результат от этого только улучшится."
   ]
  },
  {
   "cell_type": "code",
   "execution_count": 10,
   "metadata": {},
   "outputs": [
    {
     "name": "stdout",
     "output_type": "stream",
     "text": [
      "CPU times: user 45min 53s, sys: 2.26 s, total: 45min 55s\n",
      "Wall time: 46min 1s\n"
     ]
    }
   ],
   "source": [
    "%%time\n",
    "from sklearn import cluster\n",
    "clt = cluster.MeanShift(bandwidth = 0.1)\n",
    "clt.fit(X)"
   ]
  },
  {
   "cell_type": "code",
   "execution_count": 79,
   "metadata": {},
   "outputs": [
    {
     "data": {
      "text/plain": [
       "5536"
      ]
     },
     "execution_count": 79,
     "metadata": {},
     "output_type": "execute_result"
    }
   ],
   "source": [
    "len(clt.cluster_centers_)"
   ]
  },
  {
   "cell_type": "markdown",
   "metadata": {},
   "source": [
    "Некоторые из получившихся кластеров содержат слишком мало точек - такие кластеры не интересны рекламодателям. Поэтому надо определить, какие из кластеров содержат, скажем, больше 15 элементов. Центры этих кластеров и являются оптимальными для размещения."
   ]
  },
  {
   "cell_type": "code",
   "execution_count": 80,
   "metadata": {},
   "outputs": [
    {
     "name": "stdout",
     "output_type": "stream",
     "text": [
      "1304\n",
      "[1259, 1260, 1261, 1262, 1263, 1264, 1265, 1266, 1267, 1268, 1269, 1270, 1271, 1272, 1273, 1275, 1277, 1278, 1279, 1280, 1282, 1283, 1284, 1285, 1286, 1287, 1288, 1289, 1290, 1297, 1301, 1307, 1319, 1334, 1336, 1451, 1466, 1518, 1537, 1550, 1590, 1615, 1622, 1931, 2012, 2322, 2826, 3720, 3785, 4685]\n"
     ]
    }
   ],
   "source": [
    "labels = clt.labels_\n",
    "from collections import Counter\n",
    "freq = list(Counter(labels).items())\n",
    "norm_clt = [item[0] for item in freq if item[1] > 15]\n",
    "print(len(norm_clt))\n",
    "print(norm_clt[-50:])"
   ]
  },
  {
   "cell_type": "code",
   "execution_count": 81,
   "metadata": {},
   "outputs": [
    {
     "name": "stdout",
     "output_type": "stream",
     "text": [
      "1304\n"
     ]
    },
    {
     "data": {
      "text/plain": [
       "array([[  40.71748459,  -73.98935883],\n",
       "       [  33.44969472, -112.0025631 ],\n",
       "       [  41.87816455,  -87.6298271 ],\n",
       "       ..., \n",
       "       [  42.0978027 ,  -88.5303643 ],\n",
       "       [  14.45763885,  120.8901389 ],\n",
       "       [  40.1109255 ,  -77.034978  ]])"
      ]
     },
     "execution_count": 81,
     "metadata": {},
     "output_type": "execute_result"
    }
   ],
   "source": [
    "centers = clt.cluster_centers_[norm_clt]\n",
    "print(len(centers))\n",
    "centers"
   ]
  },
  {
   "cell_type": "markdown",
   "metadata": {},
   "source": [
    "При желании увидеть получившиеся результаты на карте, можно передать центры получившихся кластеров в один из инструментов визуализации. Например, сайт `mapcustomizer.com` имеет функцию Bulk Entry, куда можно вставить центры полученных кластеров в формате:\n",
    "\n",
    "```\n",
    "38.8951118,-77.0363658\n",
    "\n",
    "33.800745,-84.41052\n",
    "\n",
    "45.5234515,-122.6762071\n",
    "\n",
    "...\n",
    "```"
   ]
  },
  {
   "cell_type": "markdown",
   "metadata": {},
   "source": [
    "Как мы помним, 20 баннеров надо разместить близ офисов компании. Найдем на Google Maps по запросу \"Carnival Cruise Line\" адреса офисов:\n",
    "\n",
    "```\n",
    "33.751277, -118.188740 (Los Angeles)\n",
    "\n",
    "25.867736, -80.324116 (Miami)\n",
    "\n",
    "51.503016, -0.075479 (London)\n",
    "\n",
    "52.378894, 4.885084 (Amsterdam)\n",
    "\n",
    "39.366487, 117.036146 (Beijing)\n",
    "\n",
    "-33.868457, 151.205134 (Sydney)\n",
    "```\n",
    "\n",
    "Осталось определить 20 ближайших к ним центров кластеров. Т.е. посчитать дистанцию до ближайшего офиса для каждой точки и выбрать 20 с наименьшим значением.\n",
    "\n",
    "**Примечание**: при подсчете расстояний и в кластеризации можно пренебречь тем, что Земля круглая, так как в точках, расположенных близко друг к другу погрешность мала, а в остальных точках значение достаточно велико, чтобы не повлиять на кластеризацию или сортировку."
   ]
  },
  {
   "cell_type": "code",
   "execution_count": 82,
   "metadata": {},
   "outputs": [],
   "source": [
    "import numpy as np\n",
    "ofices = np.array([[33.751277,-118.188740],[25.867736, -80.324116],[51.503016, -0.075479],\n",
    "                  [52.378894, 4.885084],[39.366487, 117.036146],[-33.868457, 151.205134]])"
   ]
  },
  {
   "cell_type": "code",
   "execution_count": 83,
   "metadata": {},
   "outputs": [],
   "source": [
    "results = [ ]\n",
    "for item in ofices:\n",
    "    for jtem in centers:\n",
    "        cur_rast = float(np.linalg.norm(jtem - item,ord=2))\n",
    "        trio = (cur_rast,jtem,item)\n",
    "        results.append(trio)"
   ]
  },
  {
   "cell_type": "code",
   "execution_count": 84,
   "metadata": {},
   "outputs": [
    {
     "data": {
      "text/plain": [
       "7824"
      ]
     },
     "execution_count": 84,
     "metadata": {},
     "output_type": "execute_result"
    }
   ],
   "source": [
    "len(results)"
   ]
  },
  {
   "cell_type": "code",
   "execution_count": 85,
   "metadata": {},
   "outputs": [
    {
     "data": {
      "text/plain": [
       "(44.74498121705711,\n",
       " array([ 40.71748459, -73.98935883]),\n",
       " array([  33.751277, -118.18874 ]))"
      ]
     },
     "execution_count": 85,
     "metadata": {},
     "output_type": "execute_result"
    }
   ],
   "source": [
    "results[0]"
   ]
  },
  {
   "cell_type": "code",
   "execution_count": 86,
   "metadata": {},
   "outputs": [],
   "source": [
    "results.sort()\n",
    "bests_20 = results[:20]"
   ]
  },
  {
   "cell_type": "code",
   "execution_count": 87,
   "metadata": {},
   "outputs": [
    {
     "data": {
      "text/plain": [
       "[(0.003022703449948845,\n",
       "  array([ -33.86614607,  151.20708242]),\n",
       "  array([ -33.868457,  151.205134])),\n",
       " (0.009624603275668695,\n",
       "  array([ 52.37248935,   4.89226825]),\n",
       "  array([ 52.378894,   4.885084])),\n",
       " (0.025083985626543605,\n",
       "  array([ 25.84620622, -80.31124452]),\n",
       "  array([ 25.867736, -80.324116])),\n",
       " (0.05163441574703833,\n",
       "  array([ 51.50305542,  -0.1271134 ]),\n",
       "  array([ 51.503016,  -0.075479])),\n",
       " (0.07464357860975084,\n",
       "  array([  33.81127536, -118.14433437]),\n",
       "  array([  33.751277, -118.18874 ]))]"
      ]
     },
     "execution_count": 87,
     "metadata": {},
     "output_type": "execute_result"
    }
   ],
   "source": [
    "bests_20[:5]"
   ]
  },
  {
   "cell_type": "markdown",
   "metadata": {},
   "source": [
    "Предположим, вы получили итоговые 20 точек в следующем виде:\n",
    "\n",
    "```\n",
    "latitude, longitude\n",
    "\n",
    "2.2,-2.2\n",
    "\n",
    "3.3,-3.3\n",
    "\n",
    "1.1,-0.1\n",
    "\n",
    "1.1,-1.1\n",
    "\n",
    "…\n",
    "\n",
    "19.19,-19.19\n",
    "```\n",
    "\n",
    "Отсортируйте полученный список пар (широта, долгота) по возрастанию (пары сравниваются сначала по первому элементу, затем по второму):\n",
    "\n",
    "```\n",
    "latitude, longitude\n",
    "\n",
    "1.1,-1.1\n",
    "\n",
    "1.1,-0.1\n",
    "\n",
    "2.2,-2.2\n",
    "\n",
    "3.3,-3.3\n",
    "\n",
    "…\n",
    "\n",
    "19.19,-19.19\n",
    "```"
   ]
  },
  {
   "cell_type": "code",
   "execution_count": 91,
   "metadata": {},
   "outputs": [
    {
     "data": {
      "text/plain": [
       "[[-33.866146066197132, 151.20708241502382],\n",
       " [25.787086104201528, -80.215127572339213],\n",
       " [25.846206222222165, -80.311244519752975],\n",
       " [26.005051984048166, -80.205598124013619],\n",
       " [26.108543424509275, -80.158582412553287],\n",
       " [26.139268115151499, -80.336707563636324],\n",
       " [26.202449438484077, -80.244157586297462],\n",
       " [33.67523501694324, -117.85445502716857],\n",
       " [33.811275363621299, -118.14433436758206],\n",
       " [33.816964623699938, -117.89369495186592],\n",
       " [33.898487623211686, -118.06225896072969],\n",
       " [33.922035331177227, -118.414390270794],\n",
       " [34.011355508289746, -117.92150530090264],\n",
       " [34.064978390568754, -118.26547835472107],\n",
       " [34.070045516863743, -118.02395712702904],\n",
       " [51.480365858823511, -0.30832346176470588],\n",
       " [51.503055423520586, -0.12711340069686125],\n",
       " [51.598314025925916, -0.3217856185185185],\n",
       " [52.081999449999969, 5.0963915038461529],\n",
       " [52.372489349056607, 4.8922682490566016]]"
      ]
     },
     "execution_count": 91,
     "metadata": {},
     "output_type": "execute_result"
    }
   ],
   "source": [
    "coord = [[item[1][0],item[1][1]] for item in bests_20]\n",
    "coord.sort()\n",
    "coord"
   ]
  },
  {
   "cell_type": "code",
   "execution_count": 33,
   "metadata": {},
   "outputs": [
    {
     "data": {
      "text/plain": [
       "20"
      ]
     },
     "execution_count": 33,
     "metadata": {},
     "output_type": "execute_result"
    }
   ],
   "source": [
    "len(coord)"
   ]
  },
  {
   "cell_type": "markdown",
   "metadata": {},
   "source": [
    "В итоговый файл с ответами выведите по очереди широту и долготу каждой точки (в том же порядке), получив одну строчку из 40 чисел, разделенных пробелами:\n",
    "\n",
    "`1.1 -1.1 1.1 -0.1 2.2 -2.2 3.3 -3.3 … 19.19 -19.19`"
   ]
  },
  {
   "cell_type": "code",
   "execution_count": 34,
   "metadata": {},
   "outputs": [
    {
     "data": {
      "text/plain": [
       "'-33.8661460662 151.207082415 25.7870861042 -80.2151275723 25.8968964535 -80.2977115462 26.005051984 -80.205598124 26.119457017 -80.3925599489 26.1220444459 -80.1597755762 26.2024494385 -80.2441575863 33.7028001848 -117.893328782 33.8112753636 -118.144334368 33.811722707 -117.893651041 33.8720129077 -118.370344939 33.8763283672 -118.067409714 34.0113555083 -117.921505301 34.0335937724 -118.436591225 34.0649783906 -118.265478355 34.1331990344 -118.16562962 51.4856247143 -0.391046492857 51.5030554235 -0.127113400697 52.08199945 5.09639150385 52.3724893491 4.89226824906'"
      ]
     },
     "execution_count": 34,
     "metadata": {},
     "output_type": "execute_result"
    }
   ],
   "source": [
    "a = ' '.join(map(str,[' '.join(map(str, item)) for item in coord]))\n",
    "a"
   ]
  },
  {
   "cell_type": "code",
   "execution_count": null,
   "metadata": {},
   "outputs": [],
   "source": [
    "with open(\"1.txt\", \"w\") as fout:\n",
    "        fout.write(a)"
   ]
  },
  {
   "cell_type": "code",
   "execution_count": null,
   "metadata": {
    "collapsed": true
   },
   "outputs": [],
   "source": []
  },
  {
   "cell_type": "code",
   "execution_count": null,
   "metadata": {
    "collapsed": true
   },
   "outputs": [],
   "source": []
  },
  {
   "cell_type": "code",
   "execution_count": null,
   "metadata": {
    "collapsed": true
   },
   "outputs": [],
   "source": []
  },
  {
   "cell_type": "markdown",
   "metadata": {},
   "source": [
    "# Альтернативный кластеризатор"
   ]
  },
  {
   "cell_type": "code",
   "execution_count": 92,
   "metadata": {},
   "outputs": [
    {
     "name": "stdout",
     "output_type": "stream",
     "text": [
      "CPU times: user 2.83 s, sys: 56 ms, total: 2.89 s\n",
      "Wall time: 2.85 s\n"
     ]
    }
   ],
   "source": [
    "%%time\n",
    "from sklearn import cluster\n",
    "clt2 = cluster.MeanShift(bandwidth=0.1, bin_seeding=True, min_bin_freq=15)\n",
    "clt2.fit(X)"
   ]
  },
  {
   "cell_type": "code",
   "execution_count": 93,
   "metadata": {},
   "outputs": [
    {
     "data": {
      "text/plain": [
       "524"
      ]
     },
     "execution_count": 93,
     "metadata": {},
     "output_type": "execute_result"
    }
   ],
   "source": [
    "len(clt2.cluster_centers_)"
   ]
  },
  {
   "cell_type": "code",
   "execution_count": 94,
   "metadata": {},
   "outputs": [
    {
     "name": "stdout",
     "output_type": "stream",
     "text": [
      "524\n"
     ]
    },
    {
     "data": {
      "text/plain": [
       "array([[  40.7177164 ,  -73.99183542],\n",
       "       [  33.44638027, -111.90188756],\n",
       "       [  33.44841049, -112.07400428],\n",
       "       ..., \n",
       "       [  34.5794343 , -118.1164613 ],\n",
       "       [  29.7030024 ,  -98.1244531 ],\n",
       "       [  41.4730948 ,  -87.0611412 ]])"
      ]
     },
     "execution_count": 94,
     "metadata": {},
     "output_type": "execute_result"
    }
   ],
   "source": [
    "centers2 = clt2.cluster_centers_\n",
    "print(len(centers2))\n",
    "centers2"
   ]
  },
  {
   "cell_type": "code",
   "execution_count": 95,
   "metadata": {
    "collapsed": true
   },
   "outputs": [],
   "source": [
    "import numpy as np\n",
    "ofices = np.array([[33.751277,-118.188740],[25.867736, -80.324116],[51.503016, -0.075479],\n",
    "                  [52.378894, 4.885084],[39.366487, 117.036146],[-33.868457, 151.205134]])"
   ]
  },
  {
   "cell_type": "code",
   "execution_count": 96,
   "metadata": {
    "collapsed": true
   },
   "outputs": [],
   "source": [
    "results2 = [ ]\n",
    "for item in ofices:\n",
    "    for jtem in centers2:\n",
    "        cur_rast = float(np.linalg.norm(jtem - item,ord=2))\n",
    "        trio = (cur_rast,jtem,item)\n",
    "        results2.append(trio)"
   ]
  },
  {
   "cell_type": "code",
   "execution_count": 97,
   "metadata": {},
   "outputs": [
    {
     "data": {
      "text/plain": [
       "3144"
      ]
     },
     "execution_count": 97,
     "metadata": {},
     "output_type": "execute_result"
    }
   ],
   "source": [
    "len(results2)"
   ]
  },
  {
   "cell_type": "code",
   "execution_count": 98,
   "metadata": {},
   "outputs": [
    {
     "data": {
      "text/plain": [
       "(44.74257091784804,\n",
       " array([ 40.7177164 , -73.99183542]),\n",
       " array([  33.751277, -118.18874 ]))"
      ]
     },
     "execution_count": 98,
     "metadata": {},
     "output_type": "execute_result"
    }
   ],
   "source": [
    "results2[0]"
   ]
  },
  {
   "cell_type": "code",
   "execution_count": 99,
   "metadata": {
    "collapsed": true
   },
   "outputs": [],
   "source": [
    "results2.sort()\n",
    "bests_202 = results2[:20]"
   ]
  },
  {
   "cell_type": "code",
   "execution_count": 100,
   "metadata": {},
   "outputs": [
    {
     "data": {
      "text/plain": [
       "[(0.007834758163107856,\n",
       "  array([ -33.86063043,  151.20477593]),\n",
       "  array([ -33.868457,  151.205134])),\n",
       " (0.009353316185992226,\n",
       "  array([ 52.37296399,   4.89231722]),\n",
       "  array([ 52.378894,   4.885084])),\n",
       " (0.022358439051973395,\n",
       "  array([ 25.88305038, -80.30782583]),\n",
       "  array([ 25.867736, -80.324116])),\n",
       " (0.05005829482278787,\n",
       "  array([ 51.50299126,  -0.12553729]),\n",
       "  array([ 51.503016,  -0.075479])),\n",
       " (0.06476318841858848,\n",
       "  array([  33.80646455, -118.15484893]),\n",
       "  array([  33.751277, -118.18874 ]))]"
      ]
     },
     "execution_count": 100,
     "metadata": {},
     "output_type": "execute_result"
    }
   ],
   "source": [
    "bests_202[:5]"
   ]
  },
  {
   "cell_type": "code",
   "execution_count": 101,
   "metadata": {},
   "outputs": [
    {
     "data": {
      "text/plain": [
       "[[-33.860630428571433, 151.20477592857145],\n",
       " [25.705349721052592, -80.28342873815798],\n",
       " [25.785812419967499, -80.217938036825402],\n",
       " [25.883050377499991, -80.307825830000013],\n",
       " [26.010098249285683, -80.199990585714318],\n",
       " [26.120862658633104, -80.158906680215694],\n",
       " [26.20058464102565, -80.250716125641006],\n",
       " [33.64320486829282, -117.9461146118902],\n",
       " [33.731744235999898, -117.82570046023532],\n",
       " [33.806464550704142, -118.15484892711318],\n",
       " [33.811233140199242, -117.89061154568174],\n",
       " [33.872986011570177, -118.36209114655645],\n",
       " [33.888325342758598, -118.04892817172427],\n",
       " [34.035486953121158, -118.43899771946148],\n",
       " [34.060397554582408, -118.24870902659876],\n",
       " [34.097019514285769, -117.9960914164017],\n",
       " [34.125047479062147, -118.34272233171858],\n",
       " [34.138009309227201, -118.16898671183529],\n",
       " [51.502991260887086, -0.12553728870967767],\n",
       " [52.37296399032261, 4.8923172225806466]]"
      ]
     },
     "execution_count": 101,
     "metadata": {},
     "output_type": "execute_result"
    }
   ],
   "source": [
    "coord2 = [[item[1][0],item[1][1]] for item in bests_202]\n",
    "coord2.sort()\n",
    "coord2"
   ]
  },
  {
   "cell_type": "code",
   "execution_count": 49,
   "metadata": {},
   "outputs": [
    {
     "data": {
      "text/plain": [
       "'-33.8661460662 151.207082415 25.7870861042 -80.2151275723 25.8968964535 -80.2977115462 26.005051984 -80.205598124 26.119457017 -80.3925599489 26.1220444459 -80.1597755762 26.2024494385 -80.2441575863 33.7028001848 -117.893328782 33.8112753636 -118.144334368 33.811722707 -117.893651041 33.8720129077 -118.370344939 33.8763283672 -118.067409714 34.0113555083 -117.921505301 34.0335937724 -118.436591225 34.0649783906 -118.265478355 34.1331990344 -118.16562962 51.4856247143 -0.391046492857 51.5030554235 -0.127113400697 52.08199945 5.09639150385 52.3724893491 4.89226824906'"
      ]
     },
     "execution_count": 49,
     "metadata": {},
     "output_type": "execute_result"
    }
   ],
   "source": [
    "a1 = ' '.join(map(str,[' '.join(map(str, item)) for item in coord2]))\n",
    "a1"
   ]
  },
  {
   "cell_type": "code",
   "execution_count": 50,
   "metadata": {},
   "outputs": [
    {
     "data": {
      "text/plain": [
       "'-33.8661460662 151.207082415 25.7870861042 -80.2151275723 25.8968964535 -80.2977115462 26.005051984 -80.205598124 26.119457017 -80.3925599489 26.1220444459 -80.1597755762 26.2024494385 -80.2441575863 33.7028001848 -117.893328782 33.8112753636 -118.144334368 33.811722707 -117.893651041 33.8720129077 -118.370344939 33.8763283672 -118.067409714 34.0113555083 -117.921505301 34.0335937724 -118.436591225 34.0649783906 -118.265478355 34.1331990344 -118.16562962 51.4856247143 -0.391046492857 51.5030554235 -0.127113400697 52.08199945 5.09639150385 52.3724893491 4.89226824906'"
      ]
     },
     "execution_count": 50,
     "metadata": {},
     "output_type": "execute_result"
    }
   ],
   "source": [
    "a"
   ]
  },
  {
   "cell_type": "code",
   "execution_count": null,
   "metadata": {
    "collapsed": true
   },
   "outputs": [],
   "source": [
    "with open(\"1.txt\", \"w\") as fout:\n",
    "        fout.write(a)"
   ]
  },
  {
   "cell_type": "code",
   "execution_count": null,
   "metadata": {
    "collapsed": true
   },
   "outputs": [],
   "source": []
  },
  {
   "cell_type": "code",
   "execution_count": null,
   "metadata": {
    "collapsed": true
   },
   "outputs": [],
   "source": []
  },
  {
   "cell_type": "code",
   "execution_count": null,
   "metadata": {
    "collapsed": true
   },
   "outputs": [],
   "source": []
  },
  {
   "cell_type": "code",
   "execution_count": null,
   "metadata": {
    "collapsed": true
   },
   "outputs": [],
   "source": []
  },
  {
   "cell_type": "code",
   "execution_count": 51,
   "metadata": {
    "scrolled": false
   },
   "outputs": [
    {
     "name": "stdout",
     "output_type": "stream",
     "text": [
      "Populating the interactive namespace from numpy and matplotlib\n",
      "(100000,)\n"
     ]
    },
    {
     "data": {
      "image/png": "[encoded data removed]",
      "text/plain": [
       "<matplotlib.figure.Figure at 0x7fa96c03f350>"
      ]
     },
     "metadata": {},
     "output_type": "display_data"
    }
   ],
   "source": [
    "%pylab inline\n",
    "import pandas as pd\n",
    "import sklearn.cluster as sk\n",
    "import matplotlib.pyplot as plt\n",
    "from itertools import cycle\n",
    "\n",
    "dataset=pd.read_csv('checkins.csv')\n",
    "newdataset=dataset.head(100000)\n",
    "X=np.array((newdataset['latitude'],newdataset['longitude']))\n",
    "X=X.T\n",
    "\n",
    "ms=sk.MeanShift(bandwidth=0.1)\n",
    "ms.fit(X)\n",
    "       \n",
    "labels = ms.labels_\n",
    "cluster_centers = ms.cluster_centers_\n",
    "labels_unique = np.unique(labels)\n",
    "n_clusters_ = len(labels_unique)\n",
    "\n",
    "plt.figure(1)\n",
    "plt.clf()\n",
    "\n",
    "print labels.shape \n",
    "\n",
    "colors = cycle('bgrcmykbgrcmykbgrcmykbgrcmyk')\n",
    "for k, col in zip(range(n_clusters_), colors):\n",
    "    my_members = labels == k\n",
    "    cluster_center = cluster_centers[k]\n",
    "    plt.plot(X[my_members,0],X[my_members,1],col + '.' )#Пространство признаков с выделенными разными цветами кластерами\n",
    "    #plt.plot(cluster_center[0], cluster_center[1], 'o', markerfacecolor=col,\n",
    "           #  markeredgecolor='k', markersize=14)#центры кластеров\n",
    "plt.title('Estimated number of clusters: %d' % n_clusters_)\n",
    "plt.show()"
   ]
  }
 ],
 "metadata": {
  "kernelspec": {
   "display_name": "Python 2",
   "language": "python",
   "name": "python2"
  },
  "language_info": {
   "codemirror_mode": {
    "name": "ipython",
    "version": 2
   },
   "file_extension": ".py",
   "mimetype": "text/x-python",
   "name": "python",
   "nbconvert_exporter": "python",
   "pygments_lexer": "ipython2",
   "version": "2.7.13"
  },
  "varInspector": {
   "cols": {
    "lenName": 16,
    "lenType": 16,
    "lenVar": 40
   },
   "kernels_config": {
    "python": {
     "delete_cmd_postfix": "",
     "delete_cmd_prefix": "del ",
     "library": "var_list.py",
     "varRefreshCmd": "print(var_dic_list())"
    },
    "r": {
     "delete_cmd_postfix": ") ",
     "delete_cmd_prefix": "rm(",
     "library": "var_list.r",
     "varRefreshCmd": "cat(var_dic_list()) "
    }
   },
   "types_to_exclude": [
    "module",
    "function",
    "builtin_function_or_method",
    "instance",
    "_Feature"
   ],
   "window_display": false
  }
 },
 "nbformat": 4,
 "nbformat_minor": 1
}
