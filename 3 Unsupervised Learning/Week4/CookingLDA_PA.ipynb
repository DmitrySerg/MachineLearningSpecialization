{
 "cells": [
  {
   "cell_type": "markdown",
   "metadata": {},
   "source": [
    "# Programming Assignment: \n",
    "## Готовим LDA по рецептам"
   ]
  },
  {
   "cell_type": "markdown",
   "metadata": {},
   "source": [
    "Как вы уже знаете, в тематическом моделировании делается предположение о том, что для определения тематики порядок слов в документе не важен; об этом гласит гипотеза «мешка слов». Сегодня мы будем работать с несколько нестандартной для тематического моделирования коллекцией, которую можно назвать «мешком ингредиентов», потому что на состоит из рецептов блюд разных кухонь. Тематические модели ищут слова, которые часто вместе встречаются в документах, и составляют из них темы. Мы попробуем применить эту идею к рецептам и найти кулинарные «темы». Эта коллекция хороша тем, что не требует предобработки. Кроме того, эта задача достаточно наглядно иллюстрирует принцип работы тематических моделей.\n",
    "\n",
    "Для выполнения заданий, помимо часто используемых в курсе библиотек, потребуются модули *json* и *gensim*. Первый входит в дистрибутив Anaconda, второй можно поставить командой \n",
    "\n",
    "*pip install gensim*\n",
    "\n",
    "Построение модели занимает некоторое время. На ноутбуке с процессором Intel Core i7 и тактовой частотой 2400 МГц на построение одной модели уходит менее 10 минут."
   ]
  },
  {
   "cell_type": "markdown",
   "metadata": {},
   "source": [
    "### Загрузка данных"
   ]
  },
  {
   "cell_type": "markdown",
   "metadata": {},
   "source": [
    "Коллекция дана в json-формате: для каждого рецепта известны его id, кухня (cuisine) и список ингредиентов, в него входящих. Загрузить данные можно с помощью модуля json (он входит в дистрибутив Anaconda):"
   ]
  },
  {
   "cell_type": "code",
   "execution_count": 1,
   "metadata": {
    "collapsed": true
   },
   "outputs": [],
   "source": [
    "import json"
   ]
  },
  {
   "cell_type": "code",
   "execution_count": 2,
   "metadata": {
    "collapsed": true
   },
   "outputs": [],
   "source": [
    "with open(\"recipes.json\") as f:\n",
    "    recipes = json.load(f)"
   ]
  },
  {
   "cell_type": "code",
   "execution_count": 3,
   "metadata": {},
   "outputs": [
    {
     "name": "stdout",
     "output_type": "stream",
     "text": [
      "{u'cuisine': u'greek', u'id': 10259, u'ingredients': [u'romaine lettuce', u'black olives', u'grape tomatoes', u'garlic', u'pepper', u'purple onion', u'seasoning', u'garbanzo beans', u'feta cheese crumbles']}\n"
     ]
    }
   ],
   "source": [
    "print(recipes[0])"
   ]
  },
  {
   "cell_type": "markdown",
   "metadata": {},
   "source": [
    "### Составление корпуса"
   ]
  },
  {
   "cell_type": "code",
   "execution_count": 5,
   "metadata": {},
   "outputs": [],
   "source": [
    "from gensim import corpora, models\n",
    "import numpy as np"
   ]
  },
  {
   "cell_type": "markdown",
   "metadata": {},
   "source": [
    "Наша коллекция небольшая, и целиком помещается в оперативную память. Gensim может работать с такими данными и не требует их сохранения на диск в специальном формате. Для этого коллекция должна быть представлена в виде списка списков, каждый внутренний список соответствует отдельному документу и состоит из его слов. Пример коллекции из двух документов: \n",
    "\n",
    "[[\"hello\", \"world\"], [\"programming\", \"in\", \"python\"]]\n",
    "\n",
    "Преобразуем наши данные в такой формат, а затем создадим объекты corpus и dictionary, с которыми будет работать модель."
   ]
  },
  {
   "cell_type": "code",
   "execution_count": 6,
   "metadata": {
    "collapsed": true
   },
   "outputs": [],
   "source": [
    "texts = [recipe[\"ingredients\"] for recipe in recipes]\n",
    "dictionary = corpora.Dictionary(texts)   # составляем словарь\n",
    "corpus = [dictionary.doc2bow(text) for text in texts]  # составляем корпус документов"
   ]
  },
  {
   "cell_type": "code",
   "execution_count": 7,
   "metadata": {},
   "outputs": [
    {
     "data": {
      "text/plain": [
       "(0, 1)"
      ]
     },
     "execution_count": 7,
     "metadata": {},
     "output_type": "execute_result"
    }
   ],
   "source": [
    "corpus[0][0]"
   ]
  },
  {
   "cell_type": "code",
   "execution_count": 8,
   "metadata": {},
   "outputs": [
    {
     "name": "stdout",
     "output_type": "stream",
     "text": [
      "[u'romaine lettuce', u'black olives', u'grape tomatoes', u'garlic', u'pepper', u'purple onion', u'seasoning', u'garbanzo beans', u'feta cheese crumbles']\n",
      "[(0, 1), (1, 1), (2, 1), (3, 1), (4, 1), (5, 1), (6, 1), (7, 1), (8, 1)]\n"
     ]
    }
   ],
   "source": [
    "print(texts[0])\n",
    "print(corpus[0])"
   ]
  },
  {
   "cell_type": "markdown",
   "metadata": {},
   "source": [
    "У объекта dictionary есть полезная переменная dictionary.token2id, позволяющая находить соответствие между ингредиентами и их индексами."
   ]
  },
  {
   "cell_type": "markdown",
   "metadata": {},
   "source": [
    "### Обучение модели\n",
    "Вам может понадобиться [документация](https://radimrehurek.com/gensim/models/ldamodel.html) LDA в gensim."
   ]
  },
  {
   "cell_type": "markdown",
   "metadata": {},
   "source": [
    "__Задание 1.__ Обучите модель LDA с 40 темами, установив количество проходов по коллекции 5 и оставив остальные параметры по умолчанию. \n",
    "\n",
    "\n",
    "Затем вызовите метод модели *show_topics*, указав количество тем 40 и количество токенов 10, и сохраните результат (топы ингредиентов в темах) в отдельную переменную. Если при вызове метода *show_topics* указать параметр *formatted=True*, то топы ингредиентов будет удобно выводить на печать, если *formatted=False*, будет удобно работать со списком программно. Выведите топы на печать, рассмотрите темы, а затем ответьте на вопрос:\n",
    "\n",
    "Сколько раз ингредиенты \"salt\", \"sugar\", \"water\", \"mushrooms\", \"chicken\", \"eggs\" встретились среди топов-10 всех 40 тем? При ответе __не нужно__ учитывать составные ингредиенты, например, \"hot water\".\n",
    "\n",
    "Передайте 6 чисел в функцию save_answers1 и загрузите сгенерированный файл в форму.\n",
    "\n",
    "У gensim нет возможности фиксировать случайное приближение через параметры метода, но библиотека использует numpy для инициализации матриц. Поэтому, по утверждению автора библиотеки, фиксировать случайное приближение нужно командой, которая написана в следующей ячейке. __Перед строкой кода с построением модели обязательно вставляйте указанную строку фиксации random.seed.__"
   ]
  },
  {
   "cell_type": "code",
   "execution_count": 31,
   "metadata": {
    "collapsed": true
   },
   "outputs": [],
   "source": [
    "np.random.seed(76543)\n",
    "# здесь код для построения модели:\n",
    "lda = models.ldamodel.LdaModel(corpus, num_topics=40, passes=5, id2word=dictionary)"
   ]
  },
  {
   "cell_type": "code",
   "execution_count": 32,
   "metadata": {},
   "outputs": [
    {
     "name": "stdout",
     "output_type": "stream",
     "text": [
      "Topic 8 : 0.087*\"rice\" + 0.077*\"cooking oil\" + 0.067*\"salt\" + 0.059*\"water\" + 0.051*\"basmati rice\" + 0.049*\"vinegar\" + 0.046*\"ginger\" + 0.036*\"curry leaves\" + 0.029*\"mint leaves\" + 0.023*\"red cabbage\"\n",
      "\n",
      "Topic 1 : 0.085*\"carrots\" + 0.059*\"onions\" + 0.057*\"sauce\" + 0.056*\"cabbage\" + 0.046*\"spinach\" + 0.039*\"beef\" + 0.033*\"low sodium chicken broth\" + 0.033*\"water\" + 0.029*\"firm tofu\" + 0.028*\"green cabbage\"\n",
      "\n",
      "Topic 13 : 0.086*\"sour cream\" + 0.056*\"salsa\" + 0.049*\"shredded cheddar cheese\" + 0.048*\"flour tortillas\" + 0.041*\"chili powder\" + 0.039*\"black beans\" + 0.034*\"green onions\" + 0.031*\"ground cumin\" + 0.026*\"corn tortillas\" + 0.024*\"cheddar cheese\"\n",
      "\n",
      "Topic 19 : 0.135*\"curry powder\" + 0.071*\"frozen peas\" + 0.065*\"long-grain rice\" + 0.053*\"sweetened condensed milk\" + 0.046*\"greek yogurt\" + 0.038*\"egg whites\" + 0.032*\"cauliflower\" + 0.030*\"cardamom pods\" + 0.028*\"black-eyed peas\" + 0.026*\"ground cayenne pepper\"\n",
      "\n",
      "Topic 34 : 0.089*\"onions\" + 0.074*\"salt\" + 0.059*\"garlic\" + 0.049*\"olive oil\" + 0.041*\"bay leaves\" + 0.041*\"ground black pepper\" + 0.038*\"chicken stock\" + 0.037*\"pepper\" + 0.037*\"carrots\" + 0.032*\"chicken\"\n",
      "\n",
      "Topic 27 : 0.103*\"grated parmesan cheese\" + 0.056*\"warm water\" + 0.056*\"salt\" + 0.046*\"shredded mozzarella cheese\" + 0.043*\"olive oil\" + 0.038*\"ricotta cheese\" + 0.037*\"active dry yeast\" + 0.036*\"mozzarella cheese\" + 0.032*\"butter\" + 0.031*\"italian seasoning\"\n",
      "\n",
      "Topic 11 : 0.067*\"jalapeno chilies\" + 0.064*\"salt\" + 0.051*\"avocado\" + 0.042*\"lime\" + 0.035*\"purple onion\" + 0.034*\"garlic\" + 0.032*\"olive oil\" + 0.032*\"fresh cilantro\" + 0.031*\"cilantro\" + 0.029*\"lime juice\"\n",
      "\n",
      "Topic 28 : 0.199*\"shrimp\" + 0.057*\"pork\" + 0.055*\"baby spinach\" + 0.034*\"jasmine rice\" + 0.033*\"unsweetened coconut milk\" + 0.033*\"fresh tomatoes\" + 0.032*\"noodles\" + 0.031*\"black mustard seeds\" + 0.028*\"sausage casings\" + 0.025*\"sea scallops\"\n",
      "\n",
      "Topic 32 : 0.063*\"water\" + 0.060*\"fine sea salt\" + 0.050*\"lemon zest\" + 0.049*\"fresh spinach\" + 0.041*\"yukon gold potatoes\" + 0.036*\"sesame seeds\" + 0.034*\"collard greens\" + 0.032*\"parmigiano reggiano cheese\" + 0.031*\"rice flour\" + 0.029*\"tofu\"\n",
      "\n",
      "Topic 6 : 0.107*\"ground cinnamon\" + 0.087*\"ground nutmeg\" + 0.056*\"honey\" + 0.047*\"ground allspice\" + 0.046*\"raisins\" + 0.046*\"ground cloves\" + 0.044*\"light brown sugar\" + 0.031*\"ground ginger\" + 0.030*\"brown sugar\" + 0.030*\"margarine\"\n",
      "\n"
     ]
    }
   ],
   "source": [
    "# выводим топы слов\n",
    "for t, top_words in lda.show_topics(num_topics=10, num_words=10):\n",
    "    print(\"Topic\", t, \":\", top_words, end=\"\\n\\n\")"
   ]
  },
  {
   "cell_type": "code",
   "execution_count": 33,
   "metadata": {},
   "outputs": [],
   "source": [
    "model_topics = lda.show_topics(num_topics=40, num_words=10, formatted=False)\n",
    "model_topics_dict = {}\n",
    "for topic in range(40):\n",
    "    model_topics_dict[topic] = [model_topics[topic][1][e][0] for e in range(10)]"
   ]
  },
  {
   "cell_type": "code",
   "execution_count": 34,
   "metadata": {},
   "outputs": [
    {
     "data": {
      "text/plain": [
       "{0: [u'cooking spray',\n",
       "  u'salt',\n",
       "  u'garlic cloves',\n",
       "  u'olive oil',\n",
       "  u'chopped onion',\n",
       "  u'crushed red pepper',\n",
       "  u'fat free less sodium chicken broth',\n",
       "  u'black pepper',\n",
       "  u'ground black pepper',\n",
       "  u'water'],\n",
       " 1: [u'carrots',\n",
       "  u'onions',\n",
       "  u'sauce',\n",
       "  u'cabbage',\n",
       "  u'spinach',\n",
       "  u'beef',\n",
       "  u'low sodium chicken broth',\n",
       "  u'water',\n",
       "  u'firm tofu',\n",
       "  u'green cabbage'],\n",
       " 2: [u'cracked black pepper',\n",
       "  u'dry red wine',\n",
       "  u'shortening',\n",
       "  u'beef broth',\n",
       "  u'vegetable oil cooking spray',\n",
       "  u'grape tomatoes',\n",
       "  u'cilantro sprigs',\n",
       "  u'french bread',\n",
       "  u'dried rosemary',\n",
       "  u'all-purpose flour'],\n",
       " 3: [u'potatoes',\n",
       "  u'oil',\n",
       "  u'salt',\n",
       "  u'chickpeas',\n",
       "  u'onions',\n",
       "  u'coriander',\n",
       "  u'pepper',\n",
       "  u'saffron',\n",
       "  u'chopped tomatoes',\n",
       "  u'vegetables'],\n",
       " 4: [u'green bell pepper',\n",
       "  u'garlic powder',\n",
       "  u'cayenne pepper',\n",
       "  u'salt',\n",
       "  u'paprika',\n",
       "  u'onions',\n",
       "  u'dried thyme',\n",
       "  u'worcestershire sauce',\n",
       "  u'onion powder',\n",
       "  u'ground black pepper'],\n",
       " 5: [u'ground cumin',\n",
       "  u'salt',\n",
       "  u'ground coriander',\n",
       "  u'onions',\n",
       "  u'olive oil',\n",
       "  u'garlic',\n",
       "  u'paprika',\n",
       "  u'tumeric',\n",
       "  u'cayenne pepper',\n",
       "  u'garlic cloves'],\n",
       " 6: [u'ground cinnamon',\n",
       "  u'ground nutmeg',\n",
       "  u'honey',\n",
       "  u'ground allspice',\n",
       "  u'raisins',\n",
       "  u'ground cloves',\n",
       "  u'light brown sugar',\n",
       "  u'ground ginger',\n",
       "  u'brown sugar',\n",
       "  u'margarine'],\n",
       " 7: [u'zucchini',\n",
       "  u'plum tomatoes',\n",
       "  u'fresh basil',\n",
       "  u'olive oil',\n",
       "  u'eggplant',\n",
       "  u'salt',\n",
       "  u'grated parmesan cheese',\n",
       "  u'garlic cloves',\n",
       "  u'red bell pepper',\n",
       "  u'spaghetti'],\n",
       " 8: [u'rice',\n",
       "  u'cooking oil',\n",
       "  u'salt',\n",
       "  u'water',\n",
       "  u'basmati rice',\n",
       "  u'vinegar',\n",
       "  u'ginger',\n",
       "  u'curry leaves',\n",
       "  u'mint leaves',\n",
       "  u'red cabbage'],\n",
       " 9: [u'dried oregano',\n",
       "  u'onions',\n",
       "  u'garlic',\n",
       "  u'tomato sauce',\n",
       "  u'salt',\n",
       "  u'ground beef',\n",
       "  u'diced tomatoes',\n",
       "  u'dried basil',\n",
       "  u'tomato paste',\n",
       "  u'olive oil'],\n",
       " 10: [u'white wine',\n",
       "  u'ground black pepper',\n",
       "  u'butter',\n",
       "  u'russet potatoes',\n",
       "  u'chopped fresh chives',\n",
       "  u'kosher salt',\n",
       "  u'red potato',\n",
       "  u'ham',\n",
       "  u'large eggs',\n",
       "  u'salt'],\n",
       " 11: [u'jalapeno chilies',\n",
       "  u'salt',\n",
       "  u'avocado',\n",
       "  u'lime',\n",
       "  u'purple onion',\n",
       "  u'garlic',\n",
       "  u'olive oil',\n",
       "  u'fresh cilantro',\n",
       "  u'cilantro',\n",
       "  u'lime juice'],\n",
       " 12: [u'cucumber',\n",
       "  u'lean ground beef',\n",
       "  u'cider vinegar',\n",
       "  u'feta cheese',\n",
       "  u'lemon wedge',\n",
       "  u'romaine lettuce',\n",
       "  u'cream',\n",
       "  u'cherry tomatoes',\n",
       "  u'chili',\n",
       "  u'taco seasoning mix'],\n",
       " 13: [u'sour cream',\n",
       "  u'salsa',\n",
       "  u'shredded cheddar cheese',\n",
       "  u'flour tortillas',\n",
       "  u'chili powder',\n",
       "  u'black beans',\n",
       "  u'green onions',\n",
       "  u'ground cumin',\n",
       "  u'corn tortillas',\n",
       "  u'cheddar cheese'],\n",
       " 14: [u'white sugar',\n",
       "  u'sweet potatoes',\n",
       "  u'fresh mint',\n",
       "  u'black peppercorns',\n",
       "  u'fennel seeds',\n",
       "  u'red wine',\n",
       "  u'vegetable stock',\n",
       "  u'sugar',\n",
       "  u'maple syrup',\n",
       "  u'garlic chili sauce'],\n",
       " 15: [u'cold water',\n",
       "  u'cinnamon sticks',\n",
       "  u'boiling water',\n",
       "  u'sugar',\n",
       "  u'star anise',\n",
       "  u'slivered almonds',\n",
       "  u'cake flour',\n",
       "  u'panko breadcrumbs',\n",
       "  u'green olives',\n",
       "  u'apple cider vinegar'],\n",
       " 16: [u'extra-virgin olive oil',\n",
       "  u'garlic cloves',\n",
       "  u'olive oil',\n",
       "  u'flat leaf parsley',\n",
       "  u'freshly ground pepper',\n",
       "  u'fresh lemon juice',\n",
       "  u'salt',\n",
       "  u'dry white wine',\n",
       "  u'large garlic cloves',\n",
       "  u'ground black pepper'],\n",
       " 17: [u'coconut milk',\n",
       "  u'parsley',\n",
       "  u'thyme',\n",
       "  u'chicken thighs',\n",
       "  u'garlic',\n",
       "  u'coconut oil',\n",
       "  u'onions',\n",
       "  u'Thai red curry paste',\n",
       "  u'bread',\n",
       "  u'salt'],\n",
       " 18: [u'salt',\n",
       "  u'all-purpose flour',\n",
       "  u'eggs',\n",
       "  u'milk',\n",
       "  u'butter',\n",
       "  u'baking powder',\n",
       "  u'sugar',\n",
       "  u'flour',\n",
       "  u'baking soda',\n",
       "  u'buttermilk'],\n",
       " 19: [u'curry powder',\n",
       "  u'frozen peas',\n",
       "  u'long-grain rice',\n",
       "  u'sweetened condensed milk',\n",
       "  u'greek yogurt',\n",
       "  u'egg whites',\n",
       "  u'cauliflower',\n",
       "  u'cardamom pods',\n",
       "  u'black-eyed peas',\n",
       "  u'ground cayenne pepper'],\n",
       " 20: [u'peanut oil',\n",
       "  u'ground white pepper',\n",
       "  u'beansprouts',\n",
       "  u'Sriracha',\n",
       "  u'rice noodles',\n",
       "  u'medium shrimp',\n",
       "  u'peanuts',\n",
       "  u'minced ginger',\n",
       "  u'fish sauce',\n",
       "  u'english cucumber'],\n",
       " 21: [u'boneless skinless chicken breast halves',\n",
       "  u'coarse salt',\n",
       "  u'ground pepper',\n",
       "  u'sweet onion',\n",
       "  u'mayonaise',\n",
       "  u'pork tenderloin',\n",
       "  u'minced garlic',\n",
       "  u'juice',\n",
       "  u'minced onion',\n",
       "  u'dried parsley'],\n",
       " 22: [u'diced onions',\n",
       "  u'lettuce',\n",
       "  u'self rising flour',\n",
       "  u'provolone cheese',\n",
       "  u'iceberg lettuce',\n",
       "  u'frozen pastry puff sheets',\n",
       "  u'romano cheese',\n",
       "  u'semi-sweet chocolate morsels',\n",
       "  u'shredded cheese',\n",
       "  u'reduced-fat sour cream'],\n",
       " 23: [u'lemon juice',\n",
       "  u'dijon mustard',\n",
       "  u'creole seasoning',\n",
       "  u'white pepper',\n",
       "  u'fresh orange juice',\n",
       "  u'nutmeg',\n",
       "  u'kale',\n",
       "  u'mayonaise',\n",
       "  u'salmon fillets',\n",
       "  u'cream cheese, soften'],\n",
       " 24: [u'sugar',\n",
       "  u'whipping cream',\n",
       "  u'orange juice',\n",
       "  u'hot water',\n",
       "  u'chopped garlic',\n",
       "  u'orange',\n",
       "  u'bananas',\n",
       "  u'bread flour',\n",
       "  u'water',\n",
       "  u'brandy'],\n",
       " 25: [u'salt',\n",
       "  u'cumin seed',\n",
       "  u'onions',\n",
       "  u'ground turmeric',\n",
       "  u'garam masala',\n",
       "  u'green chilies',\n",
       "  u'clove',\n",
       "  u'chili powder',\n",
       "  u'tomatoes',\n",
       "  u'oil'],\n",
       " 26: [u'fish sauce',\n",
       "  u'white vinegar',\n",
       "  u'sugar',\n",
       "  u'garlic',\n",
       "  u'lime juice',\n",
       "  u'vegetable oil',\n",
       "  u'shallots',\n",
       "  u'water',\n",
       "  u'lemongrass',\n",
       "  u'red chili peppers'],\n",
       " 27: [u'grated parmesan cheese',\n",
       "  u'warm water',\n",
       "  u'salt',\n",
       "  u'shredded mozzarella cheese',\n",
       "  u'olive oil',\n",
       "  u'ricotta cheese',\n",
       "  u'active dry yeast',\n",
       "  u'mozzarella cheese',\n",
       "  u'butter',\n",
       "  u'italian seasoning'],\n",
       " 28: [u'shrimp',\n",
       "  u'pork',\n",
       "  u'baby spinach',\n",
       "  u'jasmine rice',\n",
       "  u'unsweetened coconut milk',\n",
       "  u'fresh tomatoes',\n",
       "  u'noodles',\n",
       "  u'black mustard seeds',\n",
       "  u'sausage casings',\n",
       "  u'sea scallops'],\n",
       " 29: [u'mushrooms',\n",
       "  u'white wine vinegar',\n",
       "  u'shallots',\n",
       "  u'boneless chicken breast',\n",
       "  u'olive oil',\n",
       "  u'chopped fresh sage',\n",
       "  u'butter',\n",
       "  u'chorizo sausage',\n",
       "  u'blanched almonds',\n",
       "  u'chicken drumsticks'],\n",
       " 30: [u'large eggs',\n",
       "  u'unsalted butter',\n",
       "  u'sugar',\n",
       "  u'salt',\n",
       "  u'all-purpose flour',\n",
       "  u'heavy cream',\n",
       "  u'whole milk',\n",
       "  u'vanilla extract',\n",
       "  u'granulated sugar',\n",
       "  u'large egg yolks'],\n",
       " 31: [u'salt',\n",
       "  u'ground red pepper',\n",
       "  u'water',\n",
       "  u'finely chopped onion',\n",
       "  u'chopped celery',\n",
       "  u'green beans',\n",
       "  u'hot pepper sauce',\n",
       "  u'long grain white rice',\n",
       "  u'chopped onion',\n",
       "  u'chopped green bell pepper'],\n",
       " 32: [u'water',\n",
       "  u'fine sea salt',\n",
       "  u'lemon zest',\n",
       "  u'fresh spinach',\n",
       "  u'yukon gold potatoes',\n",
       "  u'sesame seeds',\n",
       "  u'collard greens',\n",
       "  u'parmigiano reggiano cheese',\n",
       "  u'rice flour',\n",
       "  u'tofu'],\n",
       " 33: [u'balsamic vinegar',\n",
       "  u'dark soy sauce',\n",
       "  u'chopped fresh mint',\n",
       "  u'baguette',\n",
       "  u'broccoli',\n",
       "  u'penne',\n",
       "  u'mint',\n",
       "  u'tequila',\n",
       "  u'red kidney beans',\n",
       "  u'arugula'],\n",
       " 34: [u'onions',\n",
       "  u'salt',\n",
       "  u'garlic',\n",
       "  u'olive oil',\n",
       "  u'bay leaves',\n",
       "  u'ground black pepper',\n",
       "  u'chicken stock',\n",
       "  u'pepper',\n",
       "  u'carrots',\n",
       "  u'chicken'],\n",
       " 35: [u'soy sauce',\n",
       "  u'sesame oil',\n",
       "  u'sugar',\n",
       "  u'corn starch',\n",
       "  u'garlic',\n",
       "  u'green onions',\n",
       "  u'scallions',\n",
       "  u'rice vinegar',\n",
       "  u'salt',\n",
       "  u'water'],\n",
       " 36: [u'cheese',\n",
       "  u'garlic salt',\n",
       "  u'rice wine',\n",
       "  u'chives',\n",
       "  u'chicken breast halves',\n",
       "  u'shredded sharp cheddar cheese',\n",
       "  u'roasted peanuts',\n",
       "  u'Mexican cheese blend',\n",
       "  u'non-fat sour cream',\n",
       "  u'dashi'],\n",
       " 37: [u'chicken broth',\n",
       "  u'chicken breasts',\n",
       "  u'onions',\n",
       "  u'crushed red pepper flakes',\n",
       "  u'garlic',\n",
       "  u'pepper',\n",
       "  u'chopped parsley',\n",
       "  u'salt',\n",
       "  u'olive oil',\n",
       "  u'bay leaf'],\n",
       " 38: [u'olive oil',\n",
       "  u'red wine vinegar',\n",
       "  u'salt',\n",
       "  u'parmesan cheese',\n",
       "  u'garlic',\n",
       "  u'fresh basil leaves',\n",
       "  u'extra-virgin olive oil',\n",
       "  u'pepper',\n",
       "  u'ground black pepper',\n",
       "  u'tomatoes'],\n",
       " 39: [u'canola oil',\n",
       "  u'fresh lime juice',\n",
       "  u'chopped cilantro fresh',\n",
       "  u'kosher salt',\n",
       "  u'garlic cloves',\n",
       "  u'peeled fresh ginger',\n",
       "  u'chiles',\n",
       "  u'vegetable oil',\n",
       "  u'serrano chile',\n",
       "  u'boneless chicken skinless thigh']}"
      ]
     },
     "execution_count": 34,
     "metadata": {},
     "output_type": "execute_result"
    }
   ],
   "source": [
    "model_topics_dict"
   ]
  },
  {
   "cell_type": "code",
   "execution_count": 41,
   "metadata": {},
   "outputs": [
    {
     "name": "stdout",
     "output_type": "stream",
     "text": [
      "[20, 7, 8, 1, 1, 1]\n"
     ]
    }
   ],
   "source": [
    "topics = lda.show_topics(num_topics=40, num_words=10,formatted=False)\n",
    "list_form = [ ]\n",
    "\n",
    "for item in topics:\n",
    "    list_form.append(set([top[0] for top in item[1:][0]]))\n",
    "    \n",
    "interested = [\"salt\", \"sugar\", \"water\", \"mushrooms\", \"chicken\", \"eggs\"]\n",
    "\n",
    "answer = [ ]\n",
    "for termin in interested:\n",
    "    cur = 0\n",
    "    for top in list_form:\n",
    "        if termin in top:\n",
    "            cur += 1\n",
    "    answer.append(cur)\n",
    "print(answer)"
   ]
  },
  {
   "cell_type": "code",
   "execution_count": 42,
   "metadata": {},
   "outputs": [],
   "source": [
    "c_salt, c_sugar, c_water, c_mushrooms, c_chicken, c_eggs = answer"
   ]
  },
  {
   "cell_type": "code",
   "execution_count": 43,
   "metadata": {},
   "outputs": [
    {
     "data": {
      "text/plain": [
       "(20, 7, 8, 1, 1, 1)"
      ]
     },
     "execution_count": 43,
     "metadata": {},
     "output_type": "execute_result"
    }
   ],
   "source": [
    "c_salt, c_sugar, c_water, c_mushrooms, c_chicken, c_eggs"
   ]
  },
  {
   "cell_type": "code",
   "execution_count": 44,
   "metadata": {
    "collapsed": true
   },
   "outputs": [],
   "source": [
    "def save_answers1(c_salt, c_sugar, c_water, c_mushrooms, c_chicken, c_eggs):\n",
    "    with open(\"cooking_LDA_pa_task1.txt\", \"w\") as fout:\n",
    "        fout.write(\" \".join([str(el) for el in [c_salt, c_sugar, c_water, c_mushrooms, c_chicken, c_eggs]]))"
   ]
  },
  {
   "cell_type": "code",
   "execution_count": 45,
   "metadata": {},
   "outputs": [],
   "source": [
    "save_answers1(c_salt, c_sugar, c_water, c_mushrooms, c_chicken, c_eggs)"
   ]
  },
  {
   "cell_type": "markdown",
   "metadata": {},
   "source": [
    "### Фильтрация словаря\n",
    "В топах тем гораздо чаще встречаются первые три рассмотренных ингредиента, чем последние три. При этом наличие в рецепте курицы, яиц и грибов яснее дает понять, что мы будем готовить, чем наличие соли, сахара и воды. Таким образом, даже в рецептах есть слова, часто встречающиеся в текстах и не несущие смысловой нагрузки, и поэтому их не желательно видеть в темах. Наиболее простой прием борьбы с такими фоновыми элементами — фильтрация словаря по частоте. Обычно словарь фильтруют с двух сторон: убирают очень редкие слова (в целях экономии памяти) и очень частые слова (в целях повышения интерпретируемости тем). Мы уберем только частые слова."
   ]
  },
  {
   "cell_type": "code",
   "execution_count": 51,
   "metadata": {
    "collapsed": true
   },
   "outputs": [],
   "source": [
    "import copy\n",
    "dictionary2 = copy.deepcopy(dictionary)\n",
    "dict_size_before = len(dictionary2)"
   ]
  },
  {
   "cell_type": "markdown",
   "metadata": {},
   "source": [
    "__Задание 2.__ У объекта dictionary2 есть переменная *dfs* — это словарь, ключами которого являются id токена, а элементами — число раз, сколько слово встретилось во всей коллекции. Сохраните в отдельный список ингредиенты, которые встретились в коллекции больше 4000 раз. Вызовите метод словаря *filter_tokens*, подав в качестве первого аргумента полученный список популярных ингредиентов. Вычислите две величины: dict_size_before и dict_size_after — размер словаря до и после фильтрации.\n",
    "\n",
    "Затем, используя новый словарь, создайте новый корпус документов, corpus2, по аналогии с тем, как это сделано в начале ноутбука. Вычислите две величины: corpus_size_before и corpus_size_after — суммарное количество ингредиентов в корпусе (для каждого документа вычислите число различных ингредиентов в нем и просуммируйте по всем документам) до и после фильтрации.\n",
    "\n",
    "Передайте величины dict_size_before, dict_size_after, corpus_size_before, corpus_size_after в функцию save_answers2 и загрузите сгенерированный файл в форму."
   ]
  },
  {
   "cell_type": "code",
   "execution_count": 52,
   "metadata": {},
   "outputs": [],
   "source": [
    "frequent_items = [key for key, value in dictionary2.dfs.iteritems() if value>4000]"
   ]
  },
  {
   "cell_type": "code",
   "execution_count": 56,
   "metadata": {},
   "outputs": [
    {
     "data": {
      "text/plain": [
       "[0, 4, 9, 12, 17, 21, 29, 45, 48, 54, 100, 117]"
      ]
     },
     "execution_count": 56,
     "metadata": {},
     "output_type": "execute_result"
    }
   ],
   "source": [
    "frequent_items"
   ]
  },
  {
   "cell_type": "code",
   "execution_count": 53,
   "metadata": {
    "collapsed": true
   },
   "outputs": [],
   "source": [
    "dictionary2.filter_tokens(frequent_items)"
   ]
  },
  {
   "cell_type": "code",
   "execution_count": 54,
   "metadata": {
    "collapsed": true
   },
   "outputs": [],
   "source": [
    "dict_size_after = len(dictionary2)"
   ]
  },
  {
   "cell_type": "code",
   "execution_count": 55,
   "metadata": {},
   "outputs": [
    {
     "data": {
      "text/plain": [
       "(6714, 6702)"
      ]
     },
     "execution_count": 55,
     "metadata": {},
     "output_type": "execute_result"
    }
   ],
   "source": [
    "dict_size_before, dict_size_after"
   ]
  },
  {
   "cell_type": "code",
   "execution_count": 57,
   "metadata": {
    "collapsed": true
   },
   "outputs": [],
   "source": [
    "corpus2 = [dictionary2.doc2bow(text) for text in texts]"
   ]
  },
  {
   "cell_type": "code",
   "execution_count": 59,
   "metadata": {},
   "outputs": [],
   "source": [
    "corpus_size_before = 0\n",
    "corpus_size_after = 0\n",
    "\n",
    "for document in corpus:\n",
    "    corpus_size_before += len(document)\n",
    "for document in corpus2:\n",
    "    corpus_size_after += len(document)"
   ]
  },
  {
   "cell_type": "code",
   "execution_count": 61,
   "metadata": {},
   "outputs": [
    {
     "data": {
      "text/plain": [
       "(428249, 343665)"
      ]
     },
     "execution_count": 61,
     "metadata": {},
     "output_type": "execute_result"
    }
   ],
   "source": [
    "corpus_size_before, corpus_size_after"
   ]
  },
  {
   "cell_type": "code",
   "execution_count": 60,
   "metadata": {
    "collapsed": true
   },
   "outputs": [],
   "source": [
    "def save_answers2(dict_size_before, dict_size_after, corpus_size_before, corpus_size_after):\n",
    "    with open(\"cooking_LDA_pa_task2.txt\", \"w\") as fout:\n",
    "        fout.write(\" \".join([str(el) for el in [dict_size_before, dict_size_after, corpus_size_before, corpus_size_after]]))"
   ]
  },
  {
   "cell_type": "code",
   "execution_count": 62,
   "metadata": {
    "collapsed": true
   },
   "outputs": [],
   "source": [
    "save_answers2(dict_size_before, dict_size_after, corpus_size_before, corpus_size_after)"
   ]
  },
  {
   "cell_type": "markdown",
   "metadata": {},
   "source": [
    "### Сравнение когерентностей\n",
    "__Задание 3.__ Постройте еще одну модель по корпусу corpus2 и словарю dictionary2, остальные параметры оставьте такими же, как при первом построении модели. Сохраните новую модель в другую переменную (не перезаписывайте предыдущую модель). Не забудьте про фиксирование seed!\n",
    "\n",
    "Затем воспользуйтесь методом *top_topics* модели, чтобы вычислить ее когерентность. Передайте в качестве аргумента соответствующий модели корпус. Метод вернет список кортежей (топ токенов, когерентность), отсортированных по убыванию последней. Вычислите среднюю по всем темам когерентность для каждой из двух моделей и передайте в функцию save_answers3. "
   ]
  },
  {
   "cell_type": "code",
   "execution_count": 63,
   "metadata": {
    "collapsed": true
   },
   "outputs": [],
   "source": [
    "np.random.seed(76543)\n",
    "# здесь код для построения модели:\n",
    "lda2 = models.ldamodel.LdaModel(corpus2, num_topics=40, passes=5, id2word=dictionary2)"
   ]
  },
  {
   "cell_type": "code",
   "execution_count": 67,
   "metadata": {},
   "outputs": [],
   "source": [
    "coherence = lda.top_topics(corpus)\n",
    "coherence2 = lda2.top_topics(corpus2)"
   ]
  },
  {
   "cell_type": "code",
   "execution_count": 70,
   "metadata": {},
   "outputs": [],
   "source": [
    "coherence = np.array(coherence)[:, -1].mean()\n",
    "coherence2 = np.array(coherence2)[:, -1].mean()"
   ]
  },
  {
   "cell_type": "code",
   "execution_count": 71,
   "metadata": {},
   "outputs": [
    {
     "data": {
      "text/plain": [
       "-691.77559462613226"
      ]
     },
     "execution_count": 71,
     "metadata": {},
     "output_type": "execute_result"
    }
   ],
   "source": [
    "coherence"
   ]
  },
  {
   "cell_type": "code",
   "execution_count": 72,
   "metadata": {},
   "outputs": [
    {
     "data": {
      "text/plain": [
       "-752.97097549988052"
      ]
     },
     "execution_count": 72,
     "metadata": {},
     "output_type": "execute_result"
    }
   ],
   "source": [
    "coherence2"
   ]
  },
  {
   "cell_type": "code",
   "execution_count": 73,
   "metadata": {
    "collapsed": true
   },
   "outputs": [],
   "source": [
    "def save_answers3(coherence, coherence2):\n",
    "    with open(\"cooking_LDA_pa_task3.txt\", \"w\") as fout:\n",
    "        fout.write(\" \".join([\"%3f\"%el for el in [coherence, coherence2]]))"
   ]
  },
  {
   "cell_type": "code",
   "execution_count": 74,
   "metadata": {
    "collapsed": true
   },
   "outputs": [],
   "source": [
    "save_answers3(coherence, coherence2)"
   ]
  },
  {
   "cell_type": "markdown",
   "metadata": {},
   "source": [
    "Считается, что когерентность хорошо соотносится с человеческими оценками интерпретируемости тем. Поэтому на больших текстовых коллекциях когерентность обычно повышается, если убрать фоновую лексику. Однако в нашем случае этого не произошло. "
   ]
  },
  {
   "cell_type": "markdown",
   "metadata": {},
   "source": [
    "### Изучение влияния гиперпараметра alpha"
   ]
  },
  {
   "cell_type": "markdown",
   "metadata": {},
   "source": [
    "В этом разделе мы будем работать со второй моделью, то есть той, которая построена по сокращенному корпусу. \n",
    "\n",
    "Пока что мы посмотрели только на матрицу темы-слова, теперь давайте посмотрим на матрицу темы-документы. Выведите темы для нулевого (или любого другого) документа из корпуса, воспользовавшись методом *get_document_topics* второй модели:"
   ]
  },
  {
   "cell_type": "code",
   "execution_count": 77,
   "metadata": {},
   "outputs": [
    {
     "data": {
      "text/plain": [
       "[(4, 0.12812499999999991),\n",
       " (15, 0.32353084838300322),\n",
       " (22, 0.27661108248543986),\n",
       " (37, 0.15923306913155641)]"
      ]
     },
     "execution_count": 77,
     "metadata": {},
     "output_type": "execute_result"
    }
   ],
   "source": [
    "lda2.get_document_topics(corpus2[0])"
   ]
  },
  {
   "cell_type": "markdown",
   "metadata": {},
   "source": [
    "Также выведите содержимое переменной *.alpha* второй модели:"
   ]
  },
  {
   "cell_type": "code",
   "execution_count": 78,
   "metadata": {},
   "outputs": [
    {
     "data": {
      "text/plain": [
       "array([ 0.025,  0.025,  0.025,  0.025,  0.025,  0.025,  0.025,  0.025,\n",
       "        0.025,  0.025,  0.025,  0.025,  0.025,  0.025,  0.025,  0.025,\n",
       "        0.025,  0.025,  0.025,  0.025,  0.025,  0.025,  0.025,  0.025,\n",
       "        0.025,  0.025,  0.025,  0.025,  0.025,  0.025,  0.025,  0.025,\n",
       "        0.025,  0.025,  0.025,  0.025,  0.025,  0.025,  0.025,  0.025])"
      ]
     },
     "execution_count": 78,
     "metadata": {},
     "output_type": "execute_result"
    }
   ],
   "source": [
    "lda2.alpha"
   ]
  },
  {
   "cell_type": "markdown",
   "metadata": {},
   "source": [
    "У вас должно получиться, что документ характеризуется небольшим числом тем. Попробуем поменять гиперпараметр alpha, задающий априорное распределение Дирихле для распределений тем в документах."
   ]
  },
  {
   "cell_type": "markdown",
   "metadata": {},
   "source": [
    "__Задание 4.__ Обучите третью модель: используйте сокращенный корпус (corpus2 и dictionary2) и установите параметр __alpha=1__, passes=5. Не забудьте про фиксацию seed! Выведите темы новой модели для нулевого документа; должно получиться, что распределение над множеством тем практически равномерное. Чтобы убедиться в том, что во второй модели документы описываются гораздо более разреженными распределениями, чем в третьей, посчитайте суммарное количество элементов, __превосходящих 0.01__, в матрицах темы-документы обеих моделей. Другими словами, запросите темы  модели для каждого документа с параметром *minimum_probability=0.01* и просуммируйте число элементов в получаемых массивах. Передайте две суммы (сначала для модели с alpha по умолчанию, затем для модели в alpha=1) в функцию save_answers4."
   ]
  },
  {
   "cell_type": "code",
   "execution_count": 79,
   "metadata": {
    "collapsed": true
   },
   "outputs": [],
   "source": [
    "np.random.seed(76543)\n",
    "# здесь код для построения модели:\n",
    "lda3 = models.ldamodel.LdaModel(corpus2, num_topics=40, passes=5, id2word=dictionary2, alpha=1)"
   ]
  },
  {
   "cell_type": "code",
   "execution_count": 80,
   "metadata": {},
   "outputs": [
    {
     "data": {
      "text/plain": [
       "[(0, 0.021286343792953508),\n",
       " (1, 0.021298590310099764),\n",
       " (2, 0.021320055508571793),\n",
       " (3, 0.021282109727077201),\n",
       " (4, 0.021276595744680851),\n",
       " (5, 0.021496606933716474),\n",
       " (6, 0.021292176774168881),\n",
       " (7, 0.042559706429162673),\n",
       " (8, 0.021276634057457267),\n",
       " (9, 0.021276595744680851),\n",
       " (10, 0.021574647158752083),\n",
       " (11, 0.021287570547940539),\n",
       " (12, 0.021277424425023884),\n",
       " (13, 0.08409670556774991),\n",
       " (14, 0.021290106135531346),\n",
       " (15, 0.021695610486780707),\n",
       " (16, 0.021284453838081599),\n",
       " (17, 0.021280070713102107),\n",
       " (18, 0.021340039091641366),\n",
       " (19, 0.021278463140557365),\n",
       " (20, 0.021276595744752814),\n",
       " (21, 0.021334086322766992),\n",
       " (22, 0.02128117216039499),\n",
       " (23, 0.021394919949490776),\n",
       " (24, 0.021288024651372809),\n",
       " (25, 0.062709262165435389),\n",
       " (26, 0.021292249798166081),\n",
       " (27, 0.021292331136060241),\n",
       " (28, 0.021307418247128996),\n",
       " (29, 0.021434803424634736),\n",
       " (30, 0.021432324163326112),\n",
       " (31, 0.021282086472031895),\n",
       " (32, 0.021325744739054311),\n",
       " (33, 0.042881410740644194),\n",
       " (34, 0.021276595744680958),\n",
       " (35, 0.021282060707513074),\n",
       " (36, 0.021303897740526028),\n",
       " (37, 0.021276595744680851),\n",
       " (38, 0.02127684175948007),\n",
       " (39, 0.021281072460128538)]"
      ]
     },
     "execution_count": 80,
     "metadata": {},
     "output_type": "execute_result"
    }
   ],
   "source": [
    "lda3.get_document_topics(corpus2[0])"
   ]
  },
  {
   "cell_type": "code",
   "execution_count": 82,
   "metadata": {},
   "outputs": [],
   "source": [
    "count_model2 = 0\n",
    "count_model3 = 0\n",
    "for document in corpus2:\n",
    "    count_model2 += len(lda2.get_document_topics(document, minimum_probability=0.01))\n",
    "    count_model3 += len(lda3.get_document_topics(document, minimum_probability=0.01))"
   ]
  },
  {
   "cell_type": "code",
   "execution_count": 83,
   "metadata": {},
   "outputs": [
    {
     "data": {
      "text/plain": [
       "(198932, 1590960)"
      ]
     },
     "execution_count": 83,
     "metadata": {},
     "output_type": "execute_result"
    }
   ],
   "source": [
    "count_model2, count_model3"
   ]
  },
  {
   "cell_type": "code",
   "execution_count": 84,
   "metadata": {
    "collapsed": true
   },
   "outputs": [],
   "source": [
    "def save_answers4(count_model2, count_model3):\n",
    "    with open(\"cooking_LDA_pa_task4.txt\", \"w\") as fout:\n",
    "        fout.write(\" \".join([str(el) for el in [count_model2, count_model3]]))"
   ]
  },
  {
   "cell_type": "code",
   "execution_count": 85,
   "metadata": {
    "collapsed": true
   },
   "outputs": [],
   "source": [
    "save_answers4(count_model2, count_model3)"
   ]
  },
  {
   "cell_type": "markdown",
   "metadata": {},
   "source": [
    "Таким образом, гиперпараметр __alpha__ влияет на разреженность распределений тем в документах. Аналогично гиперпараметр __eta__ влияет на разреженность распределений слов в темах."
   ]
  },
  {
   "cell_type": "markdown",
   "metadata": {},
   "source": [
    "### LDA как способ понижения размерности\n",
    "Иногда, распределения над темами, найденные с помощью LDA, добавляют в матрицу объекты-признаки как дополнительные, семантические, признаки, и это может улучшить качество решения задачи. Для простоты давайте просто обучим классификатор рецептов на кухни на признаках, полученных из LDA, и измерим точность (accuracy).\n",
    "\n",
    "__Задание 5.__ Используйте модель, построенную по сокращенной выборке с alpha по умолчанию (вторую модель). Составьте матрицу $\\Theta = p(t|d)$ вероятностей тем в документах; вы можете использовать тот же метод get_document_topics, а также вектор правильных ответов y (в том же порядке, в котором рецепты идут в переменной recipes). Создайте объект RandomForestClassifier со 100 деревьями, с помощью функции cross_val_score вычислите среднюю accuracy по трем фолдам (перемешивать данные не нужно) и передайте в функцию save_answers5."
   ]
  },
  {
   "cell_type": "code",
   "execution_count": 117,
   "metadata": {},
   "outputs": [],
   "source": [
    "from sklearn.ensemble import RandomForestClassifier\n",
    "from sklearn.model_selection import cross_val_score"
   ]
  },
  {
   "cell_type": "code",
   "execution_count": 99,
   "metadata": {
    "collapsed": true
   },
   "outputs": [],
   "source": [
    "import tqdm"
   ]
  },
  {
   "cell_type": "code",
   "execution_count": 105,
   "metadata": {},
   "outputs": [
    {
     "name": "stderr",
     "output_type": "stream",
     "text": [
      "100%|██████████| 39774/39774 [00:34<00:00, 1145.45it/s]\n"
     ]
    }
   ],
   "source": [
    "X = []\n",
    "for document in tqdm.tqdm(corpus2):\n",
    "    X.append(list(np.array(lda2.get_document_topics(document, minimum_probability=0))[:, 1]))"
   ]
  },
  {
   "cell_type": "code",
   "execution_count": 106,
   "metadata": {},
   "outputs": [
    {
     "data": {
      "text/plain": [
       "(39774, 40)"
      ]
     },
     "execution_count": 106,
     "metadata": {},
     "output_type": "execute_result"
    }
   ],
   "source": [
    "X = np.array(X)\n",
    "X.shape"
   ]
  },
  {
   "cell_type": "code",
   "execution_count": 108,
   "metadata": {},
   "outputs": [],
   "source": [
    "y = [doc['cuisine'] for doc in recipes]"
   ]
  },
  {
   "cell_type": "code",
   "execution_count": 112,
   "metadata": {},
   "outputs": [],
   "source": [
    "cuisines = list(set(y))\n",
    "cuisines_dict = {}\n",
    "for i in range(len(cuisines)):\n",
    "    cuisines_dict[cuisines[i]] = i"
   ]
  },
  {
   "cell_type": "code",
   "execution_count": 114,
   "metadata": {},
   "outputs": [],
   "source": [
    "y = [cuisines_dict[cuisine] for cuisine in y]"
   ]
  },
  {
   "cell_type": "code",
   "execution_count": 118,
   "metadata": {},
   "outputs": [
    {
     "data": {
      "text/plain": [
       "array([ 0.55756616,  0.55660306,  0.56308482])"
      ]
     },
     "execution_count": 118,
     "metadata": {},
     "output_type": "execute_result"
    }
   ],
   "source": [
    "rf = RandomForestClassifier(n_estimators=100)\n",
    "cv = cross_val_score(rf, X, y, cv = 3)\n",
    "cv"
   ]
  },
  {
   "cell_type": "code",
   "execution_count": 119,
   "metadata": {},
   "outputs": [
    {
     "data": {
      "text/plain": [
       "0.55908468031967451"
      ]
     },
     "execution_count": 119,
     "metadata": {},
     "output_type": "execute_result"
    }
   ],
   "source": [
    "cv.mean()"
   ]
  },
  {
   "cell_type": "code",
   "execution_count": 120,
   "metadata": {
    "collapsed": true
   },
   "outputs": [],
   "source": [
    "def save_answers5(accuracy):\n",
    "     with open(\"cooking_LDA_pa_task5.txt\", \"w\") as fout:\n",
    "        fout.write(str(accuracy))"
   ]
  },
  {
   "cell_type": "code",
   "execution_count": 121,
   "metadata": {
    "collapsed": true
   },
   "outputs": [],
   "source": [
    "save_answers5(cv.mean())"
   ]
  },
  {
   "cell_type": "markdown",
   "metadata": {},
   "source": [
    "Для такого большого количества классов это неплохая точность. Вы можете попроовать обучать RandomForest на исходной матрице частот слов, имеющей значительно большую размерность, и увидеть, что accuracy увеличивается на 10–15%. Таким образом, LDA собрал не всю, но достаточно большую часть информации из выборки, в матрице низкого ранга."
   ]
  },
  {
   "cell_type": "markdown",
   "metadata": {},
   "source": [
    "### LDA — вероятностная модель\n",
    "Матричное разложение, использующееся в LDA, интерпретируется как следующий процесс генерации документов.\n",
    "\n",
    "Для документа $d$ длины $n_d$:\n",
    "1. Из априорного распределения Дирихле с параметром alpha сгенерировать распределение над множеством тем: $\\theta_d \\sim Dirichlet(\\alpha)$\n",
    "1. Для каждого слова $w = 1, \\dots, n_d$:\n",
    "    1. Сгенерировать тему из дискретного распределения $t \\sim \\theta_{d}$\n",
    "    1. Сгенерировать слово из дискретного распределения $w \\sim \\phi_{t}$.\n",
    "    \n",
    "Подробнее об этом в [Википедии](https://en.wikipedia.org/wiki/Latent_Dirichlet_allocation).\n",
    "\n",
    "В контексте нашей задачи получается, что, используя данный генеративный процесс, можно создавать новые рецепты. Вы можете передать в функцию модель и число ингредиентов и сгенерировать рецепт :)"
   ]
  },
  {
   "cell_type": "code",
   "execution_count": 123,
   "metadata": {},
   "outputs": [],
   "source": [
    "def generate_recipe(model, num_ingredients):\n",
    "    theta = np.random.dirichlet(model.alpha)\n",
    "    for i in range(num_ingredients):\n",
    "        t = np.random.choice(np.arange(model.num_topics), p=theta)\n",
    "        topic = model.show_topic(t, topn=model.num_terms)\n",
    "        topic_distr = [x[1] for x in topic]\n",
    "        terms = [x[0] for x in topic]\n",
    "        w = np.random.choice(terms, p=topic_distr)\n",
    "        print(w)"
   ]
  },
  {
   "cell_type": "code",
   "execution_count": 131,
   "metadata": {},
   "outputs": [
    {
     "name": "stdout",
     "output_type": "stream",
     "text": [
      "long grain white rice\n",
      "provolone cheese\n",
      "fresh mozzarella\n",
      "lean ground beef\n",
      "kahlúa\n"
     ]
    }
   ],
   "source": [
    "generate_recipe(lda2, 5)"
   ]
  },
  {
   "cell_type": "markdown",
   "metadata": {},
   "source": [
    "### Интерпретация построенной модели\n",
    "Вы можете рассмотреть топы ингредиентов каждой темы. Большиснтво тем сами по себе похожи на рецепты; в некоторых собираются продукты одного вида, например, свежие фрукты или разные виды сыра.\n",
    "\n",
    "Попробуем эмпирически соотнести наши темы с национальными кухнями (cuisine). Построим матрицу $A$ размера темы $x$ кухни, ее элементы $a_{tc}$ — суммы $p(t|d)$ по всем документам $d$, которые отнесены к кухне $c$. Нормируем матрицу на частоты рецептов по разным кухням, чтобы избежать дисбаланса между кухнями. Следующая функция получает на вход объект модели, объект корпуса и исходные данные и возвращает нормированную матрицу $A$. Ее удобно визуализировать с помощью seaborn."
   ]
  },
  {
   "cell_type": "code",
   "execution_count": 132,
   "metadata": {
    "collapsed": true
   },
   "outputs": [],
   "source": [
    "import pandas\n",
    "import seaborn\n",
    "from matplotlib import pyplot as plt\n",
    "%matplotlib inline"
   ]
  },
  {
   "cell_type": "code",
   "execution_count": 133,
   "metadata": {
    "collapsed": true
   },
   "outputs": [],
   "source": [
    "def compute_topic_cuisine_matrix(model, corpus, recipes):\n",
    "    # составляем вектор целевых признаков\n",
    "    targets = list(set([recipe[\"cuisine\"] for recipe in recipes]))\n",
    "    # составляем матрицу\n",
    "    tc_matrix = pandas.DataFrame(data=np.zeros((model.num_topics, len(targets))), columns=targets)\n",
    "    for recipe, bow in zip(recipes, corpus):\n",
    "        recipe_topic = model.get_document_topics(bow)\n",
    "        for t, prob in recipe_topic:\n",
    "            tc_matrix[recipe[\"cuisine\"]][t] += prob\n",
    "    # нормируем матрицу\n",
    "    target_sums = pandas.DataFrame(data=np.zeros((1, len(targets))), columns=targets)\n",
    "    for recipe in recipes:\n",
    "        target_sums[recipe[\"cuisine\"]] += 1\n",
    "    return pandas.DataFrame(tc_matrix.values/target_sums.values, columns=tc_matrix.columns)"
   ]
  },
  {
   "cell_type": "code",
   "execution_count": 134,
   "metadata": {
    "collapsed": true
   },
   "outputs": [],
   "source": [
    "def plot_matrix(tc_matrix):\n",
    "    plt.figure(figsize=(10, 10))\n",
    "    seaborn.heatmap(tc_matrix, square=True)"
   ]
  },
  {
   "cell_type": "code",
   "execution_count": 135,
   "metadata": {},
   "outputs": [
    {
     "data": {
      "image/png": "[encoded data removed]",
      "text/plain": [
       "<matplotlib.figure.Figure at 0x114f41a50>"
      ]
     },
     "metadata": {},
     "output_type": "display_data"
    }
   ],
   "source": [
    "# Визуализируйте матрицу\n",
    "tc_matrix = compute_topic_cuisine_matrix(lda2, corpus2, recipes)\n",
    "plot_matrix(tc_matrix)"
   ]
  },
  {
   "cell_type": "markdown",
   "metadata": {},
   "source": [
    "Чем темнее квадрат в матрице, тем больше связь этой темы с данной кухней. Мы видим, что у нас есть темы, которые связаны с несколькими кухнями. Такие темы показывают набор ингредиентов, которые популярны в кухнях нескольких народов, то есть указывают на схожесть кухонь этих народов. Некоторые темы распределены по всем кухням равномерно, они показывают наборы продуктов, которые часто используются в кулинарии всех стран. "
   ]
  },
  {
   "cell_type": "markdown",
   "metadata": {},
   "source": [
    "Жаль, что в датасете нет названий рецептов, иначе темы было бы проще интерпретировать..."
   ]
  },
  {
   "cell_type": "markdown",
   "metadata": {},
   "source": [
    "### Заключение\n",
    "В этом задании вы построили несколько моделей LDA, посмотрели, на что влияют гиперпараметры модели и как можно использовать построенную модель. "
   ]
  }
 ],
 "metadata": {
  "kernelspec": {
   "display_name": "Python 2",
   "language": "python",
   "name": "python2"
  },
  "language_info": {
   "codemirror_mode": {
    "name": "ipython",
    "version": 2
   },
   "file_extension": ".py",
   "mimetype": "text/x-python",
   "name": "python",
   "nbconvert_exporter": "python",
   "pygments_lexer": "ipython2",
   "version": "2.7.13"
  },
  "varInspector": {
   "cols": {
    "lenName": 16,
    "lenType": 16,
    "lenVar": 40
   },
   "kernels_config": {
    "python": {
     "delete_cmd_postfix": "",
     "delete_cmd_prefix": "del ",
     "library": "var_list.py",
     "varRefreshCmd": "print(var_dic_list())"
    },
    "r": {
     "delete_cmd_postfix": ") ",
     "delete_cmd_prefix": "rm(",
     "library": "var_list.r",
     "varRefreshCmd": "cat(var_dic_list()) "
    }
   },
   "position": {
    "height": "356px",
    "left": "671px",
    "right": "20px",
    "top": "134px",
    "width": "350px"
   },
   "types_to_exclude": [
    "module",
    "function",
    "builtin_function_or_method",
    "instance",
    "_Feature"
   ],
   "window_display": false
  }
 },
 "nbformat": 4,
 "nbformat_minor": 1
}
