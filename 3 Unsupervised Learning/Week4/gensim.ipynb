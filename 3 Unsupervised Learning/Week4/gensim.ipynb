{
 "cells": [
  {
   "cell_type": "markdown",
   "metadata": {},
   "source": [
    "# Пример использования библиотеки gensim для тематического моделирования"
   ]
  },
  {
   "cell_type": "markdown",
   "metadata": {},
   "source": [
    "Такая полезная теорема Байеса! :)\n",
    "\n",
    "![comic1](http://imgs.xkcd.com/comics/seashell.png)"
   ]
  },
  {
   "cell_type": "code",
   "execution_count": 1,
   "metadata": {},
   "outputs": [],
   "source": [
    "from gensim import corpora, models"
   ]
  },
  {
   "cell_type": "code",
   "execution_count": 2,
   "metadata": {},
   "outputs": [],
   "source": [
    "# Импортируем данные в формте UCI Bag of Words\n",
    "data = corpora.UciCorpus(\"docword.xkcd.txt\", \"vocab.xkcd.txt\")\n",
    "dictionary = data.create_dictionary()"
   ]
  },
  {
   "cell_type": "code",
   "execution_count": 5,
   "metadata": {},
   "outputs": [
    {
     "name": "stdout",
     "output_type": "stream",
     "text": [
      "CPU times: user 1min 55s, sys: 1.39 s, total: 1min 57s\n",
      "Wall time: 2min\n"
     ]
    }
   ],
   "source": [
    "# обучение модель\n",
    "## alpha, eta - априорные параметры распределения Дирихле\n",
    "%time ldamodel = models.ldamodel.LdaModel(data, id2word=dictionary, \n",
    "                                          num_topics=5, passes=20, alpha=1.25, eta=1.25)"
   ]
  },
  {
   "cell_type": "code",
   "execution_count": 6,
   "metadata": {
    "collapsed": true
   },
   "outputs": [],
   "source": [
    "# Сохранение модели\n",
    "ldamodel.save(\"ldamodel_xkcd\")"
   ]
  },
  {
   "cell_type": "code",
   "execution_count": 7,
   "metadata": {},
   "outputs": [],
   "source": [
    "# Загрузка модели\n",
    "ldamodel = models.ldamodel.LdaModel.load(\"ldamodel_xkcd\")"
   ]
  },
  {
   "cell_type": "code",
   "execution_count": 12,
   "metadata": {},
   "outputs": [
    {
     "name": "stdout",
     "output_type": "stream",
     "text": [
      "Topic 0 : 0.004*\"b'boy'\" + 0.002*\"b'map'\" + 0.002*\"b'labeled'\" + 0.002*\"b'island'\" + 0.001*\"b'wave'\" + 0.001*\"b'list'\" + 0.001*\"b'egg'\" + 0.001*\"b'text'\" + 0.001*\"b'axis'\" + 0.001*\"b'blogs'\"\n",
      "\n",
      "Topic 1 : 0.001*\"b'elaine'\" + 0.001*\"b'roberts'\" + 0.001*\"b'han'\" + 0.001*\"b'beef'\" + 0.001*\"b'bag'\" + 0.001*\"b'mrs'\" + 0.001*\"b'leopard'\" + 0.001*\"b'solo'\" + 0.001*\"b'doctorow'\" + 0.001*\"b'modern'\"\n",
      "\n",
      "Topic 2 : 0.001*\"b'goggles'\" + 0.001*\"b'found'\" + 0.001*\"b'jelly'\" + 0.001*\"b'bean'\" + 0.001*\"b'link'\" + 0.001*\"b'acne'\" + 0.001*\"b'005'\" + 0.001*\"b'spirit'\" + 0.001*\"b'shark'\" + 0.001*\"b'spider'\"\n",
      "\n",
      "Topic 3 : 0.004*\"b'figure'\" + 0.002*\"b'exhibit'\" + 0.002*\"b'stick'\" + 0.001*\"b'paul'\" + 0.001*\"b'ron'\" + 0.001*\"b'anchor'\" + 0.001*\"b'line'\" + 0.001*\"b'label'\" + 0.001*\"b'narrator'\" + 0.001*\"b'title'\"\n",
      "\n",
      "Topic 4 : 0.023*\"b'man'\" + 0.012*\"b'text'\" + 0.012*\"b'person'\" + 0.010*\"b'title'\" + 0.009*\"b'woman'\" + 0.008*\"b'guy'\" + 0.007*\"b'one'\" + 0.006*\"b'girl'\" + 0.005*\"b'just'\" + 0.005*\"b'two'\"\n",
      "\n"
     ]
    }
   ],
   "source": [
    "# выводим топы слов\n",
    "for t, top_words in ldamodel.print_topics(num_topics=10, num_words=10):\n",
    "    print(\"Topic\", t, \":\", top_words, end=\"\\n\\n\")"
   ]
  },
  {
   "cell_type": "code",
   "execution_count": 14,
   "metadata": {},
   "outputs": [
    {
     "name": "stdout",
     "output_type": "stream",
     "text": [
      "350.94108789\n"
     ]
    }
   ],
   "source": [
    "# Вычисляем логарифм перплексии и немного преобразуем, чтобы привести к общепринятому виду\n",
    "perplexity = ldamodel.log_perplexity(list(data))\n",
    "print(2**(-perplexity))"
   ]
  },
  {
   "cell_type": "code",
   "execution_count": 15,
   "metadata": {},
   "outputs": [
    {
     "data": {
      "text/plain": [
       "350.94108788069701"
      ]
     },
     "execution_count": 15,
     "metadata": {},
     "output_type": "execute_result"
    }
   ],
   "source": [
    "perp = ldamodel.bound(data)\n",
    "2**(-perp/float(87409))"
   ]
  },
  {
   "cell_type": "code",
   "execution_count": 17,
   "metadata": {},
   "outputs": [],
   "source": [
    "# Добавление в модель новых документов, содержащихся в новом корупсе data2\n",
    "ldamodel.update(data2, passes=10)"
   ]
  },
  {
   "cell_type": "code",
   "execution_count": 18,
   "metadata": {},
   "outputs": [
    {
     "data": {
      "text/plain": [
       "[(0, 0.16405363323840449),\n",
       " (1, 0.056802449132545327),\n",
       " (2, 0.065432602188467678),\n",
       " (3, 0.06256039165958388),\n",
       " (4, 0.65115092378099859)]"
      ]
     },
     "execution_count": 18,
     "metadata": {},
     "output_type": "execute_result"
    }
   ],
   "source": [
    "# Получение распределения тем для конкретного документа\n",
    "doc = list(data)[0]\n",
    "ldamodel.get_document_topics(doc)"
   ]
  },
  {
   "cell_type": "markdown",
   "metadata": {},
   "source": [
    "Эти люди не знают про тематические модели:\n",
    "\n",
    "![comic2](http://imgs.xkcd.com/comics/the_problem_with_wikipedia.png) | ![comic3](http://imgs.xkcd.com/comics/mystery_news.png)"
   ]
  }
 ],
 "metadata": {
  "kernelspec": {
   "display_name": "Python 3",
   "language": "python",
   "name": "python3"
  },
  "language_info": {
   "codemirror_mode": {
    "name": "ipython",
    "version": 3
   },
   "file_extension": ".py",
   "mimetype": "text/x-python",
   "name": "python",
   "nbconvert_exporter": "python",
   "pygments_lexer": "ipython3",
   "version": "3.6.1"
  },
  "varInspector": {
   "cols": {
    "lenName": 16,
    "lenType": 16,
    "lenVar": 40
   },
   "kernels_config": {
    "python": {
     "delete_cmd_postfix": "",
     "delete_cmd_prefix": "del ",
     "library": "var_list.py",
     "varRefreshCmd": "print(var_dic_list())"
    },
    "r": {
     "delete_cmd_postfix": ") ",
     "delete_cmd_prefix": "rm(",
     "library": "var_list.r",
     "varRefreshCmd": "cat(var_dic_list()) "
    }
   },
   "types_to_exclude": [
    "module",
    "function",
    "builtin_function_or_method",
    "instance",
    "_Feature"
   ],
   "window_display": false
  }
 },
 "nbformat": 4,
 "nbformat_minor": 1
}
