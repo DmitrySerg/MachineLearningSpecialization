{
 "cells": [
  {
   "cell_type": "markdown",
   "metadata": {},
   "source": [
    "# Week 1 "
   ]
  },
  {
   "cell_type": "code",
   "execution_count": 1,
   "metadata": {
    "collapsed": true
   },
   "outputs": [],
   "source": [
    "import pandas as pd\n",
    "import numpy as np\n",
    "import re"
   ]
  },
  {
   "cell_type": "code",
   "execution_count": 156,
   "metadata": {
    "collapsed": true
   },
   "outputs": [],
   "source": [
    "def writeAnswer(answer):\n",
    "    ! touch answer.txt\n",
    "    with open(\"answer.txt\", \"w\") as f:\n",
    "        f.write(answer)"
   ]
  },
  {
   "cell_type": "code",
   "execution_count": 151,
   "metadata": {
    "collapsed": true
   },
   "outputs": [],
   "source": [
    "with open(\"sentences.txt\") as f:\n",
    "    \n",
    "    sentences = f.read()"
   ]
  },
  {
   "cell_type": "code",
   "execution_count": 153,
   "metadata": {
    "collapsed": false
   },
   "outputs": [
    {
     "name": "stdout",
     "output_type": "stream",
     "text": [
      "In comparison to dogs, cats have not undergone major changes during the domestication process.\r\n",
      "As cat simply catenates streams of bytes, it can be also used to concatenate binary files, where it will just concatenate sequence of bytes.\r\n",
      "A common interactive use of cat for a single file is to output the content of a file to standard output.\r\n"
     ]
    }
   ],
   "source": [
    "! head -n 3 sentences.txt"
   ]
  },
  {
   "cell_type": "code",
   "execution_count": 89,
   "metadata": {
    "collapsed": true
   },
   "outputs": [],
   "source": [
    "sentences = sentences.lower()"
   ]
  },
  {
   "cell_type": "code",
   "execution_count": 91,
   "metadata": {
    "collapsed": false
   },
   "outputs": [],
   "source": [
    "sentences = sentences.split(\"\\n\")"
   ]
  },
  {
   "cell_type": "code",
   "execution_count": 93,
   "metadata": {
    "collapsed": false
   },
   "outputs": [],
   "source": [
    "sentences = sentences[:-1]"
   ]
  },
  {
   "cell_type": "code",
   "execution_count": 94,
   "metadata": {
    "collapsed": false
   },
   "outputs": [],
   "source": [
    "cleaned_sentences = []\n",
    "for i in sentences:\n",
    "    i = re.split('[^a-z]', i)\n",
    "    i = [x for x in i if len(x) != 0]\n",
    "    cleaned_sentences.append(i)"
   ]
  },
  {
   "cell_type": "code",
   "execution_count": 95,
   "metadata": {
    "collapsed": false
   },
   "outputs": [],
   "source": [
    "unique = sum(cleaned_sentences, [])\n",
    "unique = list(set(unique))\n",
    "unique_words = {}\n",
    "for w in range(len(unique)):\n",
    "    unique_words[unique[w]] = w"
   ]
  },
  {
   "cell_type": "code",
   "execution_count": 96,
   "metadata": {
    "collapsed": false
   },
   "outputs": [],
   "source": [
    "count_matrix = np.zeros((len(cleaned_sentences), len(unique_words)))"
   ]
  },
  {
   "cell_type": "code",
   "execution_count": 97,
   "metadata": {
    "collapsed": false
   },
   "outputs": [
    {
     "data": {
      "text/plain": [
       "(22, 254)"
      ]
     },
     "execution_count": 97,
     "metadata": {},
     "output_type": "execute_result"
    }
   ],
   "source": [
    "count_matrix.shape"
   ]
  },
  {
   "cell_type": "code",
   "execution_count": 98,
   "metadata": {
    "collapsed": false
   },
   "outputs": [
    {
     "data": {
      "text/plain": [
       "22"
      ]
     },
     "execution_count": 98,
     "metadata": {},
     "output_type": "execute_result"
    }
   ],
   "source": [
    "len(cleaned_sentences)"
   ]
  },
  {
   "cell_type": "code",
   "execution_count": 99,
   "metadata": {
    "collapsed": false
   },
   "outputs": [],
   "source": [
    "dictionary = {x:{} for x in range(len(cleaned_sentences))}"
   ]
  },
  {
   "cell_type": "code",
   "execution_count": 100,
   "metadata": {
    "collapsed": false
   },
   "outputs": [],
   "source": [
    "for sentence in range(len(cleaned_sentences)):\n",
    "    if sentence in dictionary:\n",
    "        for word in cleaned_sentences[sentence]:\n",
    "            if word in dictionary[sentence]:\n",
    "                dictionary[sentence][unique_words[word]] += 1\n",
    "            else:\n",
    "                dictionary[sentence][unique_words[word]] = 1"
   ]
  },
  {
   "cell_type": "code",
   "execution_count": 101,
   "metadata": {
    "collapsed": false
   },
   "outputs": [],
   "source": [
    "for sentence in dictionary:\n",
    "    for unique_word in dictionary[sentence]:\n",
    "        count_matrix[sentence, unique_word] = dictionary[sentence][unique_word]"
   ]
  },
  {
   "cell_type": "code",
   "execution_count": 102,
   "metadata": {
    "collapsed": false
   },
   "outputs": [],
   "source": [
    "first_sencence = count_matrix[0]\n",
    "count_matrix = count_matrix[1:]"
   ]
  },
  {
   "cell_type": "code",
   "execution_count": 103,
   "metadata": {
    "collapsed": false
   },
   "outputs": [],
   "source": [
    "from scipy.spatial.distance import cosine"
   ]
  },
  {
   "cell_type": "code",
   "execution_count": 114,
   "metadata": {
    "collapsed": false
   },
   "outputs": [
    {
     "name": "stdout",
     "output_type": "stream",
     "text": [
      "(1, 0.94023856953328033)\n",
      "(2, 0.86198688813152913)\n",
      "(3, 0.88854435748492944)\n",
      "(4, 0.80553888293435061)\n",
      "(5, 0.93517962764478357)\n",
      "(6, 0.7547442642060137)\n",
      "(7, 0.91548457452714838)\n",
      "(8, 0.90695157896015288)\n",
      "(9, 0.88335763129603917)\n",
      "(10, 0.87035925528956715)\n",
      "(11, 0.87035925528956715)\n",
      "(12, 0.8773721321030068)\n",
      "(13, 0.87035925528956715)\n",
      "(14, 0.86198688813152913)\n",
      "(15, 0.94023856953328033)\n",
      "(16, 0.85361498905772004)\n",
      "(17, 0.95037083330145344)\n",
      "(18, 0.94427217874246472)\n",
      "(19, 0.94023856953328033)\n",
      "(20, 0.84275727449171223)\n",
      "(21, 0.82503644694405864)\n"
     ]
    }
   ],
   "source": [
    "distance = []\n",
    "for sentence in range(21):\n",
    "    distance.append(cosine(first_sencence, count_matrix[sentence]))\n",
    "    print(sentence+1, cosine(first_sencence, count_matrix[sentence]))    "
   ]
  },
  {
   "cell_type": "code",
   "execution_count": 143,
   "metadata": {
    "collapsed": false
   },
   "outputs": [
    {
     "data": {
      "text/plain": [
       "array([6, 4])"
      ]
     },
     "execution_count": 143,
     "metadata": {},
     "output_type": "execute_result"
    }
   ],
   "source": [
    "import heapq\n",
    "np.array(heapq.nsmallest(2, xrange(len(distance)), key=distance.__getitem__))+1"
   ]
  },
  {
   "cell_type": "code",
   "execution_count": 157,
   "metadata": {
    "collapsed": false
   },
   "outputs": [],
   "source": [
    "writeAnswer(\"4 6\")"
   ]
  },
  {
   "cell_type": "markdown",
   "metadata": {},
   "source": [
    "## Task 2\n",
    "\n",
    "![](https://d3c33hcgiwev3.cloudfront.net/imageAssetProxy.v1/YzsaOcqaEeW9HA7NOZMxaw_3d529582665934cff77bbcf55a28e43c_image01.png?expiry=1498867200000&hmac=8oT3ooNeNYOuxY1xSNjU8N26Oo1FOntKz2GNrW6KDOE)\n",
    "\n",
    "\n",
    "Сформируйте систему линейных уравнений (то есть задайте матрицу коэффициентов A и свободный вектор b) для многочлена первой степени, который должен совпадать с функцией f в точках 1 и 15. Решите данную систему с помощью функции scipy.linalg.solve. Нарисуйте функцию f и полученный многочлен. Хорошо ли он приближает исходную функцию?"
   ]
  },
  {
   "cell_type": "code",
   "execution_count": 224,
   "metadata": {
    "collapsed": false
   },
   "outputs": [],
   "source": [
    "from __future__ import division\n",
    "def f(x):\n",
    "    return np.sin(x / 5) * np.exp(x / 10) + 5 * np.exp(-x / 2)"
   ]
  },
  {
   "cell_type": "code",
   "execution_count": 225,
   "metadata": {
    "collapsed": false
   },
   "outputs": [],
   "source": [
    "X = np.array([x for x in range(1, 16)])\n",
    "y = np.array([f(x) for x in X])\n",
    "b = np.ones(len(y))"
   ]
  },
  {
   "cell_type": "code",
   "execution_count": 226,
   "metadata": {
    "collapsed": false
   },
   "outputs": [],
   "source": [
    "matrix = np.column_stack((b, X))"
   ]
  },
  {
   "cell_type": "code",
   "execution_count": 227,
   "metadata": {
    "collapsed": false
   },
   "outputs": [],
   "source": [
    "def prediction(matrix):\n",
    "    w = np.dot(np.dot(np.linalg.inv(np.dot(matrix.T, matrix)), matrix.T), y)\n",
    "    y_hat = np.dot(w, matrix.T)\n",
    "    return w, y_hat"
   ]
  },
  {
   "cell_type": "code",
   "execution_count": 228,
   "metadata": {
    "collapsed": false
   },
   "outputs": [],
   "source": [
    "matrix_2 = np.column_stack((b, X, X**2))\n",
    "matrix_3 = np.column_stack((b, X, X**2, X**3))\n",
    "\n",
    "w_2, y_hat_2 = prediction(matrix_2)\n",
    "w_3, y_hat_3 = prediction(matrix_3)"
   ]
  },
  {
   "cell_type": "code",
   "execution_count": 229,
   "metadata": {
    "collapsed": false
   },
   "outputs": [
    {
     "data": {
      "image/png": "[encoded data removed]",
      "text/plain": [
       "<matplotlib.figure.Figure at 0x116b32290>"
      ]
     },
     "metadata": {},
     "output_type": "display_data"
    }
   ],
   "source": [
    "plt.plot(y_hat)\n",
    "plt.plot(y_hat_2)\n",
    "plt.plot(y_hat_3)\n",
    "plt.plot(y);"
   ]
  },
  {
   "cell_type": "code",
   "execution_count": 230,
   "metadata": {
    "collapsed": false
   },
   "outputs": [],
   "source": [
    "writeAnswer(' '.join(map(str, [round(i, 2) for i in w_3])))"
   ]
  },
  {
   "cell_type": "code",
   "execution_count": 237,
   "metadata": {
    "collapsed": false
   },
   "outputs": [
    {
     "data": {
      "text/plain": [
       "array([ 3.43914511, -0.18692825])"
      ]
     },
     "execution_count": 237,
     "metadata": {},
     "output_type": "execute_result"
    }
   ],
   "source": [
    "x = [1, 15]\n",
    "y = [f(i) for i in x]\n",
    "b = np.ones(len(y))\n",
    "X = np.column_stack((b, x))\n",
    "\n",
    "scipy.linalg.solve(X, y)"
   ]
  },
  {
   "cell_type": "code",
   "execution_count": 239,
   "metadata": {
    "collapsed": false
   },
   "outputs": [
    {
     "data": {
      "text/plain": [
       "array([ 3.32512949, -0.06531159, -0.00760104])"
      ]
     },
     "execution_count": 239,
     "metadata": {},
     "output_type": "execute_result"
    }
   ],
   "source": [
    "x = np.array([1, 8, 15])\n",
    "y = [f(i) for i in x]\n",
    "b = np.ones(len(y))\n",
    "X = np.column_stack((b, x, x**2))\n",
    "scipy.linalg.solve(X, y)"
   ]
  },
  {
   "cell_type": "code",
   "execution_count": 241,
   "metadata": {
    "collapsed": false
   },
   "outputs": [
    {
     "data": {
      "text/plain": [
       "array([ 4.36264154, -1.29552587,  0.19333685, -0.00823565])"
      ]
     },
     "execution_count": 241,
     "metadata": {},
     "output_type": "execute_result"
    }
   ],
   "source": [
    "x = np.array([1, 4, 10, 15])\n",
    "y = [f(i) for i in x]\n",
    "b = np.ones(len(y))\n",
    "X = np.column_stack((b, x, x**2, x**3))\n",
    "scipy.linalg.solve(X, y)"
   ]
  },
  {
   "cell_type": "code",
   "execution_count": 243,
   "metadata": {
    "collapsed": true
   },
   "outputs": [],
   "source": [
    "writeAnswer(\"4.36264154 -1.29552587  0.19333685 -0.00823565\")"
   ]
  }
 ],
 "metadata": {
  "anaconda-cloud": {},
  "kernelspec": {
   "display_name": "Python [Root]",
   "language": "python",
   "name": "Python [Root]"
  },
  "language_info": {
   "codemirror_mode": {
    "name": "ipython",
    "version": 2
   },
   "file_extension": ".py",
   "mimetype": "text/x-python",
   "name": "python",
   "nbconvert_exporter": "python",
   "pygments_lexer": "ipython2",
   "version": "2.7.12"
  }
 },
 "nbformat": 4,
 "nbformat_minor": 0
}
